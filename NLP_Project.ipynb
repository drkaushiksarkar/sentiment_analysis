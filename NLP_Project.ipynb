{
  "cells": [
    {
      "cell_type": "markdown",
      "metadata": {
        "id": "view-in-github",
        "colab_type": "text"
      },
      "source": [
        "<a href=\"https://colab.research.google.com/github/drkaushiksarkar/sentiment_analysis/blob/main/NLP_Project.ipynb\" target=\"_parent\"><img src=\"https://colab.research.google.com/assets/colab-badge.svg\" alt=\"Open In Colab\"/></a>"
      ]
    },
    {
      "cell_type": "markdown",
      "metadata": {
        "id": "tT6DRKtNB-Bk"
      },
      "source": [
        "**Sentiment Analysis: Digital Content and Entertainment Industry**"
      ]
    },
    {
      "cell_type": "code",
      "execution_count": null,
      "metadata": {
        "colab": {
          "base_uri": "https://localhost:8080/"
        },
        "id": "BlAmUskpmRPa",
        "outputId": "8dd4f1c6-2f08-449a-95a4-a78a4d41cfc4"
      },
      "outputs": [
        {
          "name": "stdout",
          "output_type": "stream",
          "text": [
            "[nltk_data] Downloading package stopwords to /root/nltk_data...\n",
            "[nltk_data]   Unzipping corpora/stopwords.zip.\n"
          ]
        }
      ],
      "source": [
        "import os\n",
        "import pandas as pd\n",
        "import numpy as np\n",
        "\n",
        "\n",
        "import keras\n",
        "from keras.datasets import imdb\n",
        "from keras.preprocessing.sequence import pad_sequences\n",
        "from keras.models import Sequential\n",
        "from keras.layers import Dense, Flatten, Dropout\n",
        "from keras.layers import Embedding\n",
        "from keras.layers import Conv1D, GlobalMaxPooling1D, MaxPooling1D\n",
        "from keras.layers import SpatialDropout1D\n",
        "from keras.callbacks import ModelCheckpoint\n",
        "from tensorflow.keras.callbacks import EarlyStopping\n",
        "\n",
        "import re\n",
        "import nltk\n",
        "from nltk.corpus import stopwords\n",
        "nltk.download('stopwords')\n",
        "\n",
        "\n",
        "from sklearn.metrics import roc_auc_score, roc_curve\n",
        "\n",
        "\n",
        "import matplotlib.pyplot as plt\n",
        "import seaborn as sns\n",
        "%matplotlib inline"
      ]
    },
    {
      "cell_type": "code",
      "execution_count": null,
      "metadata": {
        "colab": {
          "base_uri": "https://localhost:8080/"
        },
        "id": "pT8UB5gY7z4t",
        "outputId": "cba60824-bb82-41a9-cf08-68b4d9a19dff"
      },
      "outputs": [
        {
          "name": "stdout",
          "output_type": "stream",
          "text": [
            "Mounted at /content/drive\n"
          ]
        }
      ],
      "source": [
        "from google.colab import drive \n",
        "drive.mount('/content/drive')"
      ]
    },
    {
      "cell_type": "code",
      "execution_count": null,
      "metadata": {
        "colab": {
          "base_uri": "https://localhost:8080/"
        },
        "id": "O6pTMbXw7-tH",
        "outputId": "69112a1e-855d-4538-f18b-b741285ee4b5"
      },
      "outputs": [
        {
          "name": "stdout",
          "output_type": "stream",
          "text": [
            "/content\n"
          ]
        }
      ],
      "source": [
        "!pwd"
      ]
    },
    {
      "cell_type": "code",
      "execution_count": null,
      "metadata": {
        "id": "-YkhZ2Td8AAG"
      },
      "outputs": [],
      "source": [
        "!mkdir -p dense_model_output"
      ]
    },
    {
      "cell_type": "code",
      "execution_count": null,
      "metadata": {
        "id": "nGAHJ821A16x"
      },
      "outputs": [],
      "source": [
        "os.chdir('dense_model_output')"
      ]
    },
    {
      "cell_type": "markdown",
      "metadata": {
        "id": "nc7kq3-B8weN"
      },
      "source": [
        "Setting Dense Sentiment Classifier Hyperparameters"
      ]
    },
    {
      "cell_type": "code",
      "execution_count": null,
      "metadata": {
        "id": "v210fqksv5p1"
      },
      "outputs": [],
      "source": [
        "# output directory name: store model parameters after each epoch\n",
        "output_dir = 'dense_model_output'\n",
        "\n",
        "# training: using less number of epochs as NLP models have the tendency to overfit to the training data\n",
        "epochs = 4\n",
        "batch_size = 128\n",
        "\n",
        "# vector-space embedding: \n",
        "n_dim = 64\n",
        "n_unique_words = 10000 # using a max vocabulary size of 10,000\n",
        "n_words_to_skip = 0 \n",
        "max_review_length = 20 # using the first 20 words from each review to speed up training\n",
        "pad_type = trunc_type = 'post' # as instructed trancating the reviews after first 20 words\n",
        "\n",
        "# neural network architecture:\n",
        "n_dense = 64\n",
        "dropout = 0.5"
      ]
    },
    {
      "cell_type": "markdown",
      "metadata": {
        "id": "eRwrf7btAhSz"
      },
      "source": [
        "Import and analyze the dataset"
      ]
    },
    {
      "cell_type": "code",
      "execution_count": null,
      "metadata": {
        "colab": {
          "base_uri": "https://localhost:8080/"
        },
        "id": "4cAivvnBwIi4",
        "outputId": "6b0dfc2d-b6e7-4360-e9b9-445209a35f11"
      },
      "outputs": [
        {
          "name": "stdout",
          "output_type": "stream",
          "text": [
            "Downloading data from https://storage.googleapis.com/tensorflow/tf-keras-datasets/imdb.npz\n",
            "17465344/17464789 [==============================] - 0s 0us/step\n",
            "17473536/17464789 [==============================] - 0s 0us/step\n"
          ]
        },
        {
          "name": "stderr",
          "output_type": "stream",
          "text": [
            "<string>:6: VisibleDeprecationWarning: Creating an ndarray from ragged nested sequences (which is a list-or-tuple of lists-or-tuples-or ndarrays with different lengths or shapes) is deprecated. If you meant to do this, you must specify 'dtype=object' when creating the ndarray\n",
            "/usr/local/lib/python3.7/dist-packages/keras/datasets/imdb.py:155: VisibleDeprecationWarning: Creating an ndarray from ragged nested sequences (which is a list-or-tuple of lists-or-tuples-or ndarrays with different lengths or shapes) is deprecated. If you meant to do this, you must specify 'dtype=object' when creating the ndarray\n",
            "  x_train, y_train = np.array(xs[:idx]), np.array(labels[:idx])\n",
            "/usr/local/lib/python3.7/dist-packages/keras/datasets/imdb.py:156: VisibleDeprecationWarning: Creating an ndarray from ragged nested sequences (which is a list-or-tuple of lists-or-tuples-or ndarrays with different lengths or shapes) is deprecated. If you meant to do this, you must specify 'dtype=object' when creating the ndarray\n",
            "  x_test, y_test = np.array(xs[idx:]), np.array(labels[idx:])\n"
          ]
        }
      ],
      "source": [
        "(x_train, y_train), (x_valid, y_valid) = imdb.load_data(num_words = n_unique_words, skip_top= n_words_to_skip)"
      ]
    },
    {
      "cell_type": "markdown",
      "metadata": {
        "id": "5rlaioNhBEq3"
      },
      "source": [
        "Printing the number of tokens in 5 reviews"
      ]
    },
    {
      "cell_type": "code",
      "execution_count": null,
      "metadata": {
        "colab": {
          "base_uri": "https://localhost:8080/"
        },
        "id": "ZPO_wvuDwZdW",
        "outputId": "96f9048c-46de-4c32-afe2-43f858ae2bdb"
      },
      "outputs": [
        {
          "name": "stdout",
          "output_type": "stream",
          "text": [
            "218\n",
            "189\n",
            "141\n",
            "550\n",
            "147\n"
          ]
        }
      ],
      "source": [
        "for x in x_train[0:5]:\n",
        "  print(len(x))"
      ]
    },
    {
      "cell_type": "markdown",
      "metadata": {
        "id": "zn9b07xtCHTx"
      },
      "source": [
        "To view the reviews as natural language, below I have created an index of words, where PAD, START, and UNK represents padding, starting, and unknown tokens, respectively.\n",
        "\n",
        "1.   List item\n",
        "2.   List item\n",
        "\n"
      ]
    },
    {
      "cell_type": "code",
      "execution_count": null,
      "metadata": {
        "colab": {
          "base_uri": "https://localhost:8080/"
        },
        "id": "loXyoSugwys-",
        "outputId": "1a92335a-c00c-4199-e966-cc370ad0bff9"
      },
      "outputs": [
        {
          "name": "stdout",
          "output_type": "stream",
          "text": [
            "Downloading data from https://storage.googleapis.com/tensorflow/tf-keras-datasets/imdb_word_index.json\n",
            "1646592/1641221 [==============================] - 0s 0us/step\n",
            "1654784/1641221 [==============================] - 0s 0us/step\n"
          ]
        }
      ],
      "source": [
        "word_index = keras.datasets.imdb.get_word_index()\n",
        "word_index = {k:(v+3) for k, v in word_index.items()}\n",
        "word_index[\"PAD\"] = 0\n",
        "word_index[\"START\"] = 1\n",
        "word_index[\"UNK\"] = 2\n",
        "index_word = {v:k for k, v in word_index.items()}"
      ]
    },
    {
      "cell_type": "markdown",
      "metadata": {
        "id": "I8b7TG1sCrdQ"
      },
      "source": [
        "Printing the first review as natural language"
      ]
    },
    {
      "cell_type": "code",
      "execution_count": null,
      "metadata": {
        "colab": {
          "base_uri": "https://localhost:8080/",
          "height": 154
        },
        "id": "wOkXGlljCFcb",
        "outputId": "1bbbab31-62ed-4b02-f8b9-f9c037e4e1f4"
      },
      "outputs": [
        {
          "data": {
            "application/vnd.google.colaboratory.intrinsic+json": {
              "type": "string"
            },
            "text/plain": [
              "\"START this film was just brilliant casting location scenery story direction everyone's really suited the part they played and you could just imagine being there robert UNK is an amazing actor and now the same being director UNK father came from the same scottish island as myself so i loved the fact there was a real connection with this film the witty remarks throughout the film were great it was just brilliant so much that i bought the film as soon as it was released for UNK and would recommend it to everyone to watch and the fly fishing was amazing really cried at the end it was so sad and you know what they say if you cry at a film it must have been good and this definitely was also UNK to the two little boy's that played the UNK of norman and paul they were just brilliant children are often left out of the UNK list i think because the stars that play them all grown up are such a big profile for the whole film but these children are amazing and should be praised for what they have done don't you think the whole story was so lovely because it was true and was someone's life after all that was shared with us all\""
            ]
          },
          "execution_count": 10,
          "metadata": {
            "tags": []
          },
          "output_type": "execute_result"
        }
      ],
      "source": [
        "' '.join(index_word[id] for id in x_train[0])"
      ]
    },
    {
      "cell_type": "markdown",
      "metadata": {
        "id": "I80W_kflDGzc"
      },
      "source": [
        "Standardizing input length by padding sequences and truncating"
      ]
    },
    {
      "cell_type": "code",
      "execution_count": null,
      "metadata": {
        "id": "IBTy8JXvDfeT"
      },
      "outputs": [],
      "source": [
        "x_train = pad_sequences(x_train, maxlen = max_review_length, padding = pad_type, truncating = trunc_type, value=0)\n",
        "x_valid = pad_sequences(x_valid, maxlen = max_review_length, padding = pad_type, truncating = trunc_type, value=0)"
      ]
    },
    {
      "cell_type": "markdown",
      "metadata": {
        "id": "_kOVgVp_J99s"
      },
      "source": [
        "Print shape of features and labels"
      ]
    },
    {
      "cell_type": "code",
      "execution_count": null,
      "metadata": {
        "colab": {
          "base_uri": "https://localhost:8080/"
        },
        "id": "hW6d2O-3J0-d",
        "outputId": "06eb5a8c-a6a4-49ee-e304-ab3adb99b352"
      },
      "outputs": [
        {
          "data": {
            "text/plain": [
              "(25000, 20)"
            ]
          },
          "execution_count": 12,
          "metadata": {
            "tags": []
          },
          "output_type": "execute_result"
        }
      ],
      "source": [
        "x_train.shape"
      ]
    },
    {
      "cell_type": "code",
      "execution_count": null,
      "metadata": {
        "colab": {
          "base_uri": "https://localhost:8080/"
        },
        "id": "N-20InALJ9Vl",
        "outputId": "2e7f9aec-54c4-42df-ab7b-22753852ee43"
      },
      "outputs": [
        {
          "data": {
            "text/plain": [
              "(25000,)"
            ]
          },
          "execution_count": 13,
          "metadata": {
            "tags": []
          },
          "output_type": "execute_result"
        }
      ],
      "source": [
        "y_train.shape"
      ]
    },
    {
      "cell_type": "markdown",
      "metadata": {
        "id": "dMlMEVoqKODw"
      },
      "source": [
        "Print value of any one feature and label"
      ]
    },
    {
      "cell_type": "code",
      "execution_count": null,
      "metadata": {
        "colab": {
          "base_uri": "https://localhost:8080/"
        },
        "id": "Do-TtXRoKLUj",
        "outputId": "cb813d40-99af-4e8e-f485-3db2e60047d0"
      },
      "outputs": [
        {
          "data": {
            "text/plain": [
              "array([   1,   14,   22,   16,   43,  530,  973, 1622, 1385,   65,  458,\n",
              "       4468,   66, 3941,    4,  173,   36,  256,    5,   25], dtype=int32)"
            ]
          },
          "execution_count": 14,
          "metadata": {
            "tags": []
          },
          "output_type": "execute_result"
        }
      ],
      "source": [
        "x_train[0]"
      ]
    },
    {
      "cell_type": "code",
      "execution_count": null,
      "metadata": {
        "colab": {
          "base_uri": "https://localhost:8080/"
        },
        "id": "ro8jCN0BKUQR",
        "outputId": "73bb7a04-cf45-40ef-fe23-01fba1201dc2"
      },
      "outputs": [
        {
          "data": {
            "text/plain": [
              "1"
            ]
          },
          "execution_count": 15,
          "metadata": {
            "tags": []
          },
          "output_type": "execute_result"
        }
      ],
      "source": [
        "y_train[0]"
      ]
    },
    {
      "cell_type": "markdown",
      "metadata": {
        "id": "Trbyrkc_KidR"
      },
      "source": [
        "Decode the feature value to get original sentence"
      ]
    },
    {
      "cell_type": "code",
      "execution_count": null,
      "metadata": {
        "colab": {
          "base_uri": "https://localhost:8080/",
          "height": 35
        },
        "id": "U1KmuOj7KWmV",
        "outputId": "57be2209-2bf9-44fb-82cc-5a3f6569d88c"
      },
      "outputs": [
        {
          "data": {
            "application/vnd.google.colaboratory.intrinsic+json": {
              "type": "string"
            },
            "text/plain": [
              "\"START this film was just brilliant casting location scenery story direction everyone's really suited the part they played and you\""
            ]
          },
          "execution_count": 16,
          "metadata": {
            "tags": []
          },
          "output_type": "execute_result"
        }
      ],
      "source": [
        "' '.join(index_word[id] for id in x_train[0])"
      ]
    },
    {
      "cell_type": "markdown",
      "metadata": {
        "id": "J3iictu1EO1r"
      },
      "source": [
        "Dense sentiment classifier architecture"
      ]
    },
    {
      "cell_type": "code",
      "execution_count": null,
      "metadata": {
        "id": "ujbMBvpVEKUi"
      },
      "outputs": [],
      "source": [
        "model = Sequential()\n",
        "model.add(Embedding(n_unique_words, n_dim, input_length=max_review_length))\n",
        "model.add(Flatten())\n",
        "model.add(Dense(n_dense, activation= 'relu'))\n",
        "model.add(Dropout(dropout))\n",
        "model.add(Dense(n_dense, activation= 'relu'))\n",
        "model.add(Dropout(dropout))\n",
        "model.add(Dense(1, activation='sigmoid'))"
      ]
    },
    {
      "cell_type": "code",
      "execution_count": null,
      "metadata": {
        "colab": {
          "base_uri": "https://localhost:8080/"
        },
        "id": "ivWYnA-1E6ot",
        "outputId": "7574f0cc-7313-4432-ca2f-7456fd7e8fa8"
      },
      "outputs": [
        {
          "name": "stdout",
          "output_type": "stream",
          "text": [
            "Model: \"sequential\"\n",
            "_________________________________________________________________\n",
            "Layer (type)                 Output Shape              Param #   \n",
            "=================================================================\n",
            "embedding (Embedding)        (None, 20, 64)            640000    \n",
            "_________________________________________________________________\n",
            "flatten (Flatten)            (None, 1280)              0         \n",
            "_________________________________________________________________\n",
            "dense (Dense)                (None, 64)                81984     \n",
            "_________________________________________________________________\n",
            "dropout (Dropout)            (None, 64)                0         \n",
            "_________________________________________________________________\n",
            "dense_1 (Dense)              (None, 64)                4160      \n",
            "_________________________________________________________________\n",
            "dropout_1 (Dropout)          (None, 64)                0         \n",
            "_________________________________________________________________\n",
            "dense_2 (Dense)              (None, 1)                 65        \n",
            "=================================================================\n",
            "Total params: 726,209\n",
            "Trainable params: 726,209\n",
            "Non-trainable params: 0\n",
            "_________________________________________________________________\n"
          ]
        }
      ],
      "source": [
        "model.summary()"
      ]
    },
    {
      "cell_type": "markdown",
      "metadata": {
        "id": "9yjfSDtcKTmi"
      },
      "source": [
        "compiling the sentiment classifier model and creating the object and directory for check[point after each epoch"
      ]
    },
    {
      "cell_type": "code",
      "execution_count": null,
      "metadata": {
        "id": "ue1-prUdE_TA"
      },
      "outputs": [],
      "source": [
        "model.compile(loss='binary_crossentropy', optimizer='adam', metrics=['accuracy'])"
      ]
    },
    {
      "cell_type": "code",
      "execution_count": null,
      "metadata": {
        "id": "D9glIdELFNth"
      },
      "outputs": [],
      "source": [
        "modelcheckpoint = ModelCheckpoint(filepath=output_dir+\"/weights.{epoch:02d}.hdf5\")\n",
        "if not os.path.exists(output_dir):\n",
        "  os.makedirs(output_dir)"
      ]
    },
    {
      "cell_type": "markdown",
      "metadata": {
        "id": "oUy9MKXnKONs"
      },
      "source": [
        "Fitting the classifier"
      ]
    },
    {
      "cell_type": "code",
      "execution_count": null,
      "metadata": {
        "colab": {
          "base_uri": "https://localhost:8080/"
        },
        "id": "F0cnbzqwFxDh",
        "outputId": "42f8d33c-c50a-4c7f-e051-2b0e32e0d5c2"
      },
      "outputs": [
        {
          "name": "stdout",
          "output_type": "stream",
          "text": [
            "Epoch 1/4\n",
            "196/196 [==============================] - 16s 10ms/step - loss: 0.6885 - accuracy: 0.5270 - val_loss: 0.5899 - val_accuracy: 0.6770\n",
            "Epoch 2/4\n",
            "196/196 [==============================] - 1s 7ms/step - loss: 0.5053 - accuracy: 0.7567 - val_loss: 0.5850 - val_accuracy: 0.6902\n",
            "Epoch 3/4\n",
            "196/196 [==============================] - 1s 7ms/step - loss: 0.2646 - accuracy: 0.8988 - val_loss: 0.7771 - val_accuracy: 0.6671\n",
            "Epoch 4/4\n",
            "196/196 [==============================] - 1s 7ms/step - loss: 0.1082 - accuracy: 0.9648 - val_loss: 1.1497 - val_accuracy: 0.6587\n"
          ]
        },
        {
          "data": {
            "text/plain": [
              "<keras.callbacks.History at 0x7f7bf6696ad0>"
            ]
          },
          "execution_count": 21,
          "metadata": {
            "tags": []
          },
          "output_type": "execute_result"
        }
      ],
      "source": [
        "model.fit(x_train, y_train, batch_size=batch_size, epochs=epochs, verbose=1,\n",
        "          validation_data = (x_valid, y_valid), callbacks=[modelcheckpoint])"
      ]
    },
    {
      "cell_type": "markdown",
      "metadata": {
        "id": "kL_f-NyGKKtM"
      },
      "source": [
        "loading model hyperparameters"
      ]
    },
    {
      "cell_type": "code",
      "execution_count": null,
      "metadata": {
        "id": "oQTYCeN-G1eM"
      },
      "outputs": [],
      "source": [
        "model.load_weights(output_dir+\"/weights.02.hdf5\")"
      ]
    },
    {
      "cell_type": "markdown",
      "metadata": {
        "id": "6PHkU85_KFYD"
      },
      "source": [
        "predicting y_hat for validation set"
      ]
    },
    {
      "cell_type": "code",
      "execution_count": null,
      "metadata": {
        "colab": {
          "base_uri": "https://localhost:8080/"
        },
        "id": "bATuZCS2HHv5",
        "outputId": "20faba96-b956-46a2-c534-514fa6bef6cf"
      },
      "outputs": [
        {
          "name": "stderr",
          "output_type": "stream",
          "text": [
            "/usr/local/lib/python3.7/dist-packages/keras/engine/sequential.py:425: UserWarning: `model.predict_proba()` is deprecated and will be removed after 2021-01-01. Please use `model.predict()` instead.\n",
            "  warnings.warn('`model.predict_proba()` is deprecated and '\n"
          ]
        }
      ],
      "source": [
        "y_hat = model.predict_proba(x_valid)"
      ]
    },
    {
      "cell_type": "code",
      "execution_count": null,
      "metadata": {
        "colab": {
          "base_uri": "https://localhost:8080/",
          "height": 35
        },
        "id": "xqe1szd6HONK",
        "outputId": "a140095e-bddb-4d63-c25f-b97a61d42285"
      },
      "outputs": [
        {
          "data": {
            "application/vnd.google.colaboratory.intrinsic+json": {
              "type": "string"
            },
            "text/plain": [
              "\"START let me first start out by saying 1 out of 10 is too good for this movie it's unfortunate\""
            ]
          },
          "execution_count": 24,
          "metadata": {
            "tags": []
          },
          "output_type": "execute_result"
        }
      ],
      "source": [
        "' '.join(index_word[id] for id in x_valid[15])"
      ]
    },
    {
      "cell_type": "code",
      "execution_count": null,
      "metadata": {
        "colab": {
          "base_uri": "https://localhost:8080/"
        },
        "id": "rzAS4msqLCUw",
        "outputId": "f08b6bc3-9c0a-4d78-bf68-7a51bcec1c36"
      },
      "outputs": [
        {
          "data": {
            "text/plain": [
              "array([0.14665964], dtype=float32)"
            ]
          },
          "execution_count": 25,
          "metadata": {
            "tags": []
          },
          "output_type": "execute_result"
        }
      ],
      "source": [
        "y_hat[15]"
      ]
    },
    {
      "cell_type": "code",
      "execution_count": null,
      "metadata": {
        "colab": {
          "base_uri": "https://localhost:8080/"
        },
        "id": "HtOkJ1_5LFm2",
        "outputId": "caecbe20-a7f4-4cf4-d953-77fdfb124a35"
      },
      "outputs": [
        {
          "data": {
            "text/plain": [
              "0"
            ]
          },
          "execution_count": 26,
          "metadata": {
            "tags": []
          },
          "output_type": "execute_result"
        }
      ],
      "source": [
        "y_valid[15]"
      ]
    },
    {
      "cell_type": "markdown",
      "metadata": {
        "id": "nkFQ0Ao9J3IE"
      },
      "source": [
        "plotting a histogram of validation set y_hat values"
      ]
    },
    {
      "cell_type": "code",
      "execution_count": null,
      "metadata": {
        "colab": {
          "base_uri": "https://localhost:8080/",
          "height": 265
        },
        "id": "vHJBuPYaHXIS",
        "outputId": "b9cebc0a-4ed9-49a4-add7-a4a063b2113b"
      },
      "outputs": [
        {
          "data": {
            "image/png": "[encoded data removed]",
            "text/plain": [
              "<Figure size 432x288 with 1 Axes>"
            ]
          },
          "metadata": {
            "needs_background": "light",
            "tags": []
          },
          "output_type": "display_data"
        }
      ],
      "source": [
        "plt.hist(y_hat)\n",
        "_ = plt.axvline(x=0.5, color='blue')"
      ]
    },
    {
      "cell_type": "markdown",
      "metadata": {
        "id": "pmMROwmiJyUA"
      },
      "source": [
        "Calculating the area under the curve for validation data"
      ]
    },
    {
      "cell_type": "code",
      "execution_count": null,
      "metadata": {
        "colab": {
          "base_uri": "https://localhost:8080/",
          "height": 35
        },
        "id": "42PQvXhwHpYM",
        "outputId": "176d5f6f-ee69-4143-82f0-987c524d99ef"
      },
      "outputs": [
        {
          "data": {
            "application/vnd.google.colaboratory.intrinsic+json": {
              "type": "string"
            },
            "text/plain": [
              "'76.29'"
            ]
          },
          "execution_count": 28,
          "metadata": {
            "tags": []
          },
          "output_type": "execute_result"
        }
      ],
      "source": [
        "pct_auc = roc_auc_score(y_valid, y_hat)*100.0\n",
        "\"{:0.2f}\".format(pct_auc)"
      ]
    },
    {
      "cell_type": "markdown",
      "metadata": {
        "id": "s8wMvCd3JqH4"
      },
      "source": [
        "Creating a dataframe for predicted and actual y values in the validation set"
      ]
    },
    {
      "cell_type": "code",
      "execution_count": null,
      "metadata": {
        "id": "WSCgnWT4H-0V"
      },
      "outputs": [],
      "source": [
        "float_y_hat = []\n",
        "for y in y_hat:\n",
        "  float_y_hat.append(y[0])\n",
        "ydf = pd.DataFrame(list(zip(float_y_hat, y_valid)), columns = ['y_hat', 'y'])"
      ]
    },
    {
      "cell_type": "markdown",
      "metadata": {
        "id": "lFUbYuOkJkGc"
      },
      "source": [
        "20 cases of negative validation reviews with high y score"
      ]
    },
    {
      "cell_type": "code",
      "execution_count": null,
      "metadata": {
        "colab": {
          "base_uri": "https://localhost:8080/",
          "height": 669
        },
        "id": "McMUSdXVIZC-",
        "outputId": "99848037-63df-4e1c-bebb-6d63ca398c86"
      },
      "outputs": [
        {
          "data": {
            "text/html": [
              "<div>\n",
              "<style scoped>\n",
              "    .dataframe tbody tr th:only-of-type {\n",
              "        vertical-align: middle;\n",
              "    }\n",
              "\n",
              "    .dataframe tbody tr th {\n",
              "        vertical-align: top;\n",
              "    }\n",
              "\n",
              "    .dataframe thead th {\n",
              "        text-align: right;\n",
              "    }\n",
              "</style>\n",
              "<table border=\"1\" class=\"dataframe\">\n",
              "  <thead>\n",
              "    <tr style=\"text-align: right;\">\n",
              "      <th></th>\n",
              "      <th>y_hat</th>\n",
              "      <th>y</th>\n",
              "    </tr>\n",
              "  </thead>\n",
              "  <tbody>\n",
              "    <tr>\n",
              "      <th>114</th>\n",
              "      <td>0.921927</td>\n",
              "      <td>0</td>\n",
              "    </tr>\n",
              "    <tr>\n",
              "      <th>147</th>\n",
              "      <td>0.933281</td>\n",
              "      <td>0</td>\n",
              "    </tr>\n",
              "    <tr>\n",
              "      <th>166</th>\n",
              "      <td>0.939785</td>\n",
              "      <td>0</td>\n",
              "    </tr>\n",
              "    <tr>\n",
              "      <th>306</th>\n",
              "      <td>0.930153</td>\n",
              "      <td>0</td>\n",
              "    </tr>\n",
              "    <tr>\n",
              "      <th>310</th>\n",
              "      <td>0.922354</td>\n",
              "      <td>0</td>\n",
              "    </tr>\n",
              "    <tr>\n",
              "      <th>383</th>\n",
              "      <td>0.927112</td>\n",
              "      <td>0</td>\n",
              "    </tr>\n",
              "    <tr>\n",
              "      <th>449</th>\n",
              "      <td>0.956559</td>\n",
              "      <td>0</td>\n",
              "    </tr>\n",
              "    <tr>\n",
              "      <th>495</th>\n",
              "      <td>0.956936</td>\n",
              "      <td>0</td>\n",
              "    </tr>\n",
              "    <tr>\n",
              "      <th>553</th>\n",
              "      <td>0.936394</td>\n",
              "      <td>0</td>\n",
              "    </tr>\n",
              "    <tr>\n",
              "      <th>623</th>\n",
              "      <td>0.900151</td>\n",
              "      <td>0</td>\n",
              "    </tr>\n",
              "    <tr>\n",
              "      <th>1097</th>\n",
              "      <td>0.901261</td>\n",
              "      <td>0</td>\n",
              "    </tr>\n",
              "    <tr>\n",
              "      <th>1187</th>\n",
              "      <td>0.909459</td>\n",
              "      <td>0</td>\n",
              "    </tr>\n",
              "    <tr>\n",
              "      <th>1292</th>\n",
              "      <td>0.921498</td>\n",
              "      <td>0</td>\n",
              "    </tr>\n",
              "    <tr>\n",
              "      <th>1385</th>\n",
              "      <td>0.945750</td>\n",
              "      <td>0</td>\n",
              "    </tr>\n",
              "    <tr>\n",
              "      <th>1514</th>\n",
              "      <td>0.903620</td>\n",
              "      <td>0</td>\n",
              "    </tr>\n",
              "    <tr>\n",
              "      <th>1551</th>\n",
              "      <td>0.940153</td>\n",
              "      <td>0</td>\n",
              "    </tr>\n",
              "    <tr>\n",
              "      <th>1714</th>\n",
              "      <td>0.934834</td>\n",
              "      <td>0</td>\n",
              "    </tr>\n",
              "    <tr>\n",
              "      <th>1834</th>\n",
              "      <td>0.911789</td>\n",
              "      <td>0</td>\n",
              "    </tr>\n",
              "    <tr>\n",
              "      <th>1871</th>\n",
              "      <td>0.961444</td>\n",
              "      <td>0</td>\n",
              "    </tr>\n",
              "    <tr>\n",
              "      <th>1960</th>\n",
              "      <td>0.933740</td>\n",
              "      <td>0</td>\n",
              "    </tr>\n",
              "  </tbody>\n",
              "</table>\n",
              "</div>"
            ],
            "text/plain": [
              "         y_hat  y\n",
              "114   0.921927  0\n",
              "147   0.933281  0\n",
              "166   0.939785  0\n",
              "306   0.930153  0\n",
              "310   0.922354  0\n",
              "383   0.927112  0\n",
              "449   0.956559  0\n",
              "495   0.956936  0\n",
              "553   0.936394  0\n",
              "623   0.900151  0\n",
              "1097  0.901261  0\n",
              "1187  0.909459  0\n",
              "1292  0.921498  0\n",
              "1385  0.945750  0\n",
              "1514  0.903620  0\n",
              "1551  0.940153  0\n",
              "1714  0.934834  0\n",
              "1834  0.911789  0\n",
              "1871  0.961444  0\n",
              "1960  0.933740  0"
            ]
          },
          "execution_count": 30,
          "metadata": {
            "tags": []
          },
          "output_type": "execute_result"
        }
      ],
      "source": [
        "ydf[(ydf.y == 0) & (ydf.y_hat > 0.9)].head(20)"
      ]
    },
    {
      "cell_type": "markdown",
      "metadata": {
        "id": "Rm4TTo-_JZkJ"
      },
      "source": [
        "20 cases of positive valiadtion reviews with low y score"
      ]
    },
    {
      "cell_type": "code",
      "execution_count": null,
      "metadata": {
        "colab": {
          "base_uri": "https://localhost:8080/",
          "height": 669
        },
        "id": "YJX5tsn0InX1",
        "outputId": "af5612f2-0468-4fa2-e455-a8842ea076fe"
      },
      "outputs": [
        {
          "data": {
            "text/html": [
              "<div>\n",
              "<style scoped>\n",
              "    .dataframe tbody tr th:only-of-type {\n",
              "        vertical-align: middle;\n",
              "    }\n",
              "\n",
              "    .dataframe tbody tr th {\n",
              "        vertical-align: top;\n",
              "    }\n",
              "\n",
              "    .dataframe thead th {\n",
              "        text-align: right;\n",
              "    }\n",
              "</style>\n",
              "<table border=\"1\" class=\"dataframe\">\n",
              "  <thead>\n",
              "    <tr style=\"text-align: right;\">\n",
              "      <th></th>\n",
              "      <th>y_hat</th>\n",
              "      <th>y</th>\n",
              "    </tr>\n",
              "  </thead>\n",
              "  <tbody>\n",
              "    <tr>\n",
              "      <th>5</th>\n",
              "      <td>0.354997</td>\n",
              "      <td>1</td>\n",
              "    </tr>\n",
              "    <tr>\n",
              "      <th>9</th>\n",
              "      <td>0.133904</td>\n",
              "      <td>1</td>\n",
              "    </tr>\n",
              "    <tr>\n",
              "      <th>16</th>\n",
              "      <td>0.314335</td>\n",
              "      <td>1</td>\n",
              "    </tr>\n",
              "    <tr>\n",
              "      <th>22</th>\n",
              "      <td>0.362785</td>\n",
              "      <td>1</td>\n",
              "    </tr>\n",
              "    <tr>\n",
              "      <th>27</th>\n",
              "      <td>0.142828</td>\n",
              "      <td>1</td>\n",
              "    </tr>\n",
              "    <tr>\n",
              "      <th>41</th>\n",
              "      <td>0.494979</td>\n",
              "      <td>1</td>\n",
              "    </tr>\n",
              "    <tr>\n",
              "      <th>53</th>\n",
              "      <td>0.350206</td>\n",
              "      <td>1</td>\n",
              "    </tr>\n",
              "    <tr>\n",
              "      <th>54</th>\n",
              "      <td>0.453459</td>\n",
              "      <td>1</td>\n",
              "    </tr>\n",
              "    <tr>\n",
              "      <th>56</th>\n",
              "      <td>0.222107</td>\n",
              "      <td>1</td>\n",
              "    </tr>\n",
              "    <tr>\n",
              "      <th>69</th>\n",
              "      <td>0.154366</td>\n",
              "      <td>1</td>\n",
              "    </tr>\n",
              "    <tr>\n",
              "      <th>82</th>\n",
              "      <td>0.096457</td>\n",
              "      <td>1</td>\n",
              "    </tr>\n",
              "    <tr>\n",
              "      <th>87</th>\n",
              "      <td>0.358890</td>\n",
              "      <td>1</td>\n",
              "    </tr>\n",
              "    <tr>\n",
              "      <th>89</th>\n",
              "      <td>0.087171</td>\n",
              "      <td>1</td>\n",
              "    </tr>\n",
              "    <tr>\n",
              "      <th>93</th>\n",
              "      <td>0.442243</td>\n",
              "      <td>1</td>\n",
              "    </tr>\n",
              "    <tr>\n",
              "      <th>96</th>\n",
              "      <td>0.305699</td>\n",
              "      <td>1</td>\n",
              "    </tr>\n",
              "    <tr>\n",
              "      <th>97</th>\n",
              "      <td>0.436410</td>\n",
              "      <td>1</td>\n",
              "    </tr>\n",
              "    <tr>\n",
              "      <th>100</th>\n",
              "      <td>0.315238</td>\n",
              "      <td>1</td>\n",
              "    </tr>\n",
              "    <tr>\n",
              "      <th>116</th>\n",
              "      <td>0.253494</td>\n",
              "      <td>1</td>\n",
              "    </tr>\n",
              "    <tr>\n",
              "      <th>125</th>\n",
              "      <td>0.252652</td>\n",
              "      <td>1</td>\n",
              "    </tr>\n",
              "    <tr>\n",
              "      <th>126</th>\n",
              "      <td>0.276347</td>\n",
              "      <td>1</td>\n",
              "    </tr>\n",
              "  </tbody>\n",
              "</table>\n",
              "</div>"
            ],
            "text/plain": [
              "        y_hat  y\n",
              "5    0.354997  1\n",
              "9    0.133904  1\n",
              "16   0.314335  1\n",
              "22   0.362785  1\n",
              "27   0.142828  1\n",
              "41   0.494979  1\n",
              "53   0.350206  1\n",
              "54   0.453459  1\n",
              "56   0.222107  1\n",
              "69   0.154366  1\n",
              "82   0.096457  1\n",
              "87   0.358890  1\n",
              "89   0.087171  1\n",
              "93   0.442243  1\n",
              "96   0.305699  1\n",
              "97   0.436410  1\n",
              "100  0.315238  1\n",
              "116  0.253494  1\n",
              "125  0.252652  1\n",
              "126  0.276347  1"
            ]
          },
          "execution_count": 31,
          "metadata": {
            "tags": []
          },
          "output_type": "execute_result"
        }
      ],
      "source": [
        "ydf[(ydf.y == 1) & (ydf.y_hat < 0.5)].head(20)"
      ]
    },
    {
      "cell_type": "markdown",
      "metadata": {
        "id": "GEJ8ByB7JPxF"
      },
      "source": [
        "Effort to produce a more complex CNN model with better accuracy"
      ]
    },
    {
      "cell_type": "code",
      "execution_count": null,
      "metadata": {
        "id": "SY5MYxAiKuFv"
      },
      "outputs": [],
      "source": [
        "# output directory name: store model parameters after each epoch\n",
        "output_dir = 'conv_model_output'\n",
        "\n",
        "# training: using less number of epochs as NLP models have the tendency to overfit to the training data\n",
        "epochs = 10\n",
        "batch_size = 128\n",
        "\n",
        "# vector-space embedding: \n",
        "n_dim = 64\n",
        "n_unique_words = 10000 # using a max vocabulary size of 10,000\n",
        "max_review_length = 20 # using the first 20 words from each review to speed up training\n",
        "pad_type = trunc_type = 'pre' # as instructed trancating the reviews after first 20 words\n",
        "drop_embed = 0.2\n",
        "\n",
        "# neural network architecture:\n",
        "n_conv = 256\n",
        "k_conv = 3\n",
        "n_dense = 256\n",
        "dropout = 0.2"
      ]
    },
    {
      "cell_type": "code",
      "execution_count": null,
      "metadata": {
        "id": "F_kktcjsLOv7"
      },
      "outputs": [],
      "source": [
        "model = Sequential()\n",
        "model.add(Embedding(n_unique_words, n_dim, input_length=max_review_length))\n",
        "model.add(SpatialDropout1D(drop_embed))\n",
        "model.add(Conv1D(n_conv, k_conv, activation='relu'))\n",
        "model.add(GlobalMaxPooling1D())\n",
        "model.add(Dense(n_dense, activation= 'relu'))\n",
        "model.add(Dropout(dropout))\n",
        "model.add(Dense(1, activation='sigmoid'))"
      ]
    },
    {
      "cell_type": "code",
      "execution_count": null,
      "metadata": {
        "id": "0z4q1FbqL7BP"
      },
      "outputs": [],
      "source": [
        "model.compile(loss='binary_crossentropy', optimizer='adam', metrics=['accuracy'])"
      ]
    },
    {
      "cell_type": "code",
      "execution_count": null,
      "metadata": {
        "id": "NgKcGQvUMKWn"
      },
      "outputs": [],
      "source": [
        "modelcheckpoint = ModelCheckpoint(filepath=output_dir+\"/weights.{epoch:02d}.hdf5\")\n",
        "if not os.path.exists(output_dir):\n",
        "  os.makedirs(output_dir)"
      ]
    },
    {
      "cell_type": "code",
      "execution_count": null,
      "metadata": {
        "colab": {
          "base_uri": "https://localhost:8080/"
        },
        "id": "4JMrR2RUMQRe",
        "outputId": "63ae895e-a5ec-4c3d-c4be-25318df5d8f0"
      },
      "outputs": [
        {
          "name": "stdout",
          "output_type": "stream",
          "text": [
            "Epoch 1/10\n",
            "196/196 [==============================] - 5s 15ms/step - loss: 0.6663 - accuracy: 0.5706 - val_loss: 0.5638 - val_accuracy: 0.6965\n",
            "Epoch 2/10\n",
            "196/196 [==============================] - 3s 13ms/step - loss: 0.4765 - accuracy: 0.7745 - val_loss: 0.5683 - val_accuracy: 0.7046\n",
            "Epoch 3/10\n",
            "196/196 [==============================] - 3s 13ms/step - loss: 0.3757 - accuracy: 0.8361 - val_loss: 0.6121 - val_accuracy: 0.6991\n",
            "Epoch 4/10\n",
            "196/196 [==============================] - 3s 13ms/step - loss: 0.2702 - accuracy: 0.8940 - val_loss: 0.7102 - val_accuracy: 0.6867\n",
            "Epoch 5/10\n",
            "196/196 [==============================] - 3s 13ms/step - loss: 0.1797 - accuracy: 0.9332 - val_loss: 0.9001 - val_accuracy: 0.6837\n",
            "Epoch 6/10\n",
            "196/196 [==============================] - 2s 13ms/step - loss: 0.1069 - accuracy: 0.9637 - val_loss: 1.0491 - val_accuracy: 0.6753\n",
            "Epoch 7/10\n",
            "196/196 [==============================] - 3s 13ms/step - loss: 0.0679 - accuracy: 0.9780 - val_loss: 1.2653 - val_accuracy: 0.6718\n",
            "Epoch 8/10\n",
            "196/196 [==============================] - 3s 13ms/step - loss: 0.0480 - accuracy: 0.9847 - val_loss: 1.4348 - val_accuracy: 0.6751\n",
            "Epoch 9/10\n",
            "196/196 [==============================] - 3s 13ms/step - loss: 0.0391 - accuracy: 0.9865 - val_loss: 1.5700 - val_accuracy: 0.6712\n",
            "Epoch 10/10\n",
            "196/196 [==============================] - 3s 13ms/step - loss: 0.0272 - accuracy: 0.9907 - val_loss: 1.6874 - val_accuracy: 0.6732\n"
          ]
        },
        {
          "data": {
            "text/plain": [
              "<keras.callbacks.History at 0x7f7bf69c9690>"
            ]
          },
          "execution_count": 36,
          "metadata": {
            "tags": []
          },
          "output_type": "execute_result"
        }
      ],
      "source": [
        "model.fit(x_train, y_train, batch_size=batch_size, epochs=epochs, verbose=1,\n",
        "          validation_data = (x_valid, y_valid), callbacks=[modelcheckpoint])"
      ]
    },
    {
      "cell_type": "code",
      "execution_count": null,
      "metadata": {
        "id": "6XzBG-AAMUe7"
      },
      "outputs": [],
      "source": [
        "model.load_weights(output_dir+\"/weights.02.hdf5\")"
      ]
    },
    {
      "cell_type": "code",
      "execution_count": null,
      "metadata": {
        "colab": {
          "base_uri": "https://localhost:8080/"
        },
        "id": "GfL5nYfPMqem",
        "outputId": "e87b66e6-1b9b-4537-f37a-df828e876346"
      },
      "outputs": [
        {
          "name": "stderr",
          "output_type": "stream",
          "text": [
            "/usr/local/lib/python3.7/dist-packages/keras/engine/sequential.py:425: UserWarning: `model.predict_proba()` is deprecated and will be removed after 2021-01-01. Please use `model.predict()` instead.\n",
            "  warnings.warn('`model.predict_proba()` is deprecated and '\n"
          ]
        }
      ],
      "source": [
        "y_hat = model.predict_proba(x_valid);"
      ]
    },
    {
      "cell_type": "code",
      "execution_count": null,
      "metadata": {
        "colab": {
          "base_uri": "https://localhost:8080/",
          "height": 35
        },
        "id": "nBb5ZhWKMuIw",
        "outputId": "e9f4dd3c-148b-4e63-a6b5-8c485f6c7e47"
      },
      "outputs": [
        {
          "data": {
            "application/vnd.google.colaboratory.intrinsic+json": {
              "type": "string"
            },
            "text/plain": [
              "'78.20'"
            ]
          },
          "execution_count": 39,
          "metadata": {
            "tags": []
          },
          "output_type": "execute_result"
        }
      ],
      "source": [
        "pct_auc = roc_auc_score(y_valid, y_hat)*100.0\n",
        "\"{:0.2f}\".format(pct_auc)"
      ]
    },
    {
      "cell_type": "markdown",
      "metadata": {
        "id": "6zfiaWJKRy_V"
      },
      "source": [
        "**Section 2. Social Media Analytics**"
      ]
    },
    {
      "cell_type": "markdown",
      "metadata": {
        "id": "SI67U2itLx1H"
      },
      "source": [
        "Read and explore the data"
      ]
    },
    {
      "cell_type": "code",
      "execution_count": null,
      "metadata": {
        "id": "JU2hxjJnVaob"
      },
      "outputs": [],
      "source": [
        "url = 'https://raw.githubusercontent.com/rishabhmisra/News-Headlines-Dataset-For-Sarcasm-Detection/master/Sarcasm_Headlines_Dataset.json'\n"
      ]
    },
    {
      "cell_type": "code",
      "execution_count": null,
      "metadata": {
        "colab": {
          "base_uri": "https://localhost:8080/",
          "height": 204
        },
        "id": "JVBimsF-R5RW",
        "outputId": "928451a3-1ab9-49ba-86db-703e976b580f"
      },
      "outputs": [
        {
          "data": {
            "text/html": [
              "<div>\n",
              "<style scoped>\n",
              "    .dataframe tbody tr th:only-of-type {\n",
              "        vertical-align: middle;\n",
              "    }\n",
              "\n",
              "    .dataframe tbody tr th {\n",
              "        vertical-align: top;\n",
              "    }\n",
              "\n",
              "    .dataframe thead th {\n",
              "        text-align: right;\n",
              "    }\n",
              "</style>\n",
              "<table border=\"1\" class=\"dataframe\">\n",
              "  <thead>\n",
              "    <tr style=\"text-align: right;\">\n",
              "      <th></th>\n",
              "      <th>is_sarcastic</th>\n",
              "      <th>headline</th>\n",
              "      <th>article_link</th>\n",
              "    </tr>\n",
              "  </thead>\n",
              "  <tbody>\n",
              "    <tr>\n",
              "      <th>0</th>\n",
              "      <td>1</td>\n",
              "      <td>thirtysomething scientists unveil doomsday clo...</td>\n",
              "      <td>https://www.theonion.com/thirtysomething-scien...</td>\n",
              "    </tr>\n",
              "    <tr>\n",
              "      <th>1</th>\n",
              "      <td>0</td>\n",
              "      <td>dem rep. totally nails why congress is falling...</td>\n",
              "      <td>https://www.huffingtonpost.com/entry/donna-edw...</td>\n",
              "    </tr>\n",
              "    <tr>\n",
              "      <th>2</th>\n",
              "      <td>0</td>\n",
              "      <td>eat your veggies: 9 deliciously different recipes</td>\n",
              "      <td>https://www.huffingtonpost.com/entry/eat-your-...</td>\n",
              "    </tr>\n",
              "    <tr>\n",
              "      <th>3</th>\n",
              "      <td>1</td>\n",
              "      <td>inclement weather prevents liar from getting t...</td>\n",
              "      <td>https://local.theonion.com/inclement-weather-p...</td>\n",
              "    </tr>\n",
              "    <tr>\n",
              "      <th>4</th>\n",
              "      <td>1</td>\n",
              "      <td>mother comes pretty close to using word 'strea...</td>\n",
              "      <td>https://www.theonion.com/mother-comes-pretty-c...</td>\n",
              "    </tr>\n",
              "  </tbody>\n",
              "</table>\n",
              "</div>"
            ],
            "text/plain": [
              "   is_sarcastic  ...                                       article_link\n",
              "0             1  ...  https://www.theonion.com/thirtysomething-scien...\n",
              "1             0  ...  https://www.huffingtonpost.com/entry/donna-edw...\n",
              "2             0  ...  https://www.huffingtonpost.com/entry/eat-your-...\n",
              "3             1  ...  https://local.theonion.com/inclement-weather-p...\n",
              "4             1  ...  https://www.theonion.com/mother-comes-pretty-c...\n",
              "\n",
              "[5 rows x 3 columns]"
            ]
          },
          "execution_count": 41,
          "metadata": {
            "tags": []
          },
          "output_type": "execute_result"
        }
      ],
      "source": [
        "df= pd.read_json(url, lines=True)\n",
        "df.head()"
      ]
    },
    {
      "cell_type": "code",
      "execution_count": null,
      "metadata": {
        "colab": {
          "base_uri": "https://localhost:8080/"
        },
        "id": "d1LgOaj-Snpl",
        "outputId": "6af3b751-8c2f-4f3a-951f-b4692d6071d2"
      },
      "outputs": [
        {
          "name": "stdout",
          "output_type": "stream",
          "text": [
            "<class 'pandas.core.frame.DataFrame'>\n",
            "RangeIndex: 28619 entries, 0 to 28618\n",
            "Data columns (total 3 columns):\n",
            " #   Column        Non-Null Count  Dtype \n",
            "---  ------        --------------  ----- \n",
            " 0   is_sarcastic  28619 non-null  int64 \n",
            " 1   headline      28619 non-null  object\n",
            " 2   article_link  28619 non-null  object\n",
            "dtypes: int64(1), object(2)\n",
            "memory usage: 670.9+ KB\n"
          ]
        }
      ],
      "source": [
        "df.info()"
      ]
    },
    {
      "cell_type": "code",
      "execution_count": null,
      "metadata": {
        "colab": {
          "base_uri": "https://localhost:8080/"
        },
        "id": "4CTwdTPWSepn",
        "outputId": "ede40dee-83f6-4d5d-c016-4509088a01ff"
      },
      "outputs": [
        {
          "data": {
            "text/plain": [
              "0    14985\n",
              "1    13634\n",
              "Name: is_sarcastic, dtype: int64"
            ]
          },
          "execution_count": 43,
          "metadata": {
            "tags": []
          },
          "output_type": "execute_result"
        }
      ],
      "source": [
        "df['is_sarcastic'].value_counts()"
      ]
    },
    {
      "cell_type": "code",
      "execution_count": null,
      "metadata": {
        "colab": {
          "base_uri": "https://localhost:8080/",
          "height": 280
        },
        "id": "2BErhDtDSqEF",
        "outputId": "2da0f512-d2a1-4b59-a42f-72563c056c14"
      },
      "outputs": [
        {
          "data": {
            "image/png": "[encoded data removed]",
            "text/plain": [
              "<Figure size 432x288 with 1 Axes>"
            ]
          },
          "metadata": {
            "tags": []
          },
          "output_type": "display_data"
        }
      ],
      "source": [
        "sns.set_style('whitegrid')\n",
        "sns.countplot(x='is_sarcastic',data=df, palette='YlGnBu_r');"
      ]
    },
    {
      "cell_type": "markdown",
      "metadata": {
        "id": "wLXtATSEMAmD"
      },
      "source": [
        "Retain relevant columns"
      ]
    },
    {
      "cell_type": "code",
      "execution_count": null,
      "metadata": {
        "id": "86oGx798MAGo"
      },
      "outputs": [],
      "source": [
        "df = df.drop(\"article_link\", axis = 1)"
      ]
    },
    {
      "cell_type": "markdown",
      "metadata": {
        "id": "HMCfN7YBMZQf"
      },
      "source": [
        "Get length of each sentence"
      ]
    },
    {
      "cell_type": "code",
      "execution_count": null,
      "metadata": {
        "colab": {
          "base_uri": "https://localhost:8080/",
          "height": 204
        },
        "id": "SemmlteFMc8l",
        "outputId": "27ccb189-5dcf-4611-bcfe-c58149826f19"
      },
      "outputs": [
        {
          "data": {
            "text/html": [
              "<div>\n",
              "<style scoped>\n",
              "    .dataframe tbody tr th:only-of-type {\n",
              "        vertical-align: middle;\n",
              "    }\n",
              "\n",
              "    .dataframe tbody tr th {\n",
              "        vertical-align: top;\n",
              "    }\n",
              "\n",
              "    .dataframe thead th {\n",
              "        text-align: right;\n",
              "    }\n",
              "</style>\n",
              "<table border=\"1\" class=\"dataframe\">\n",
              "  <thead>\n",
              "    <tr style=\"text-align: right;\">\n",
              "      <th></th>\n",
              "      <th>is_sarcastic</th>\n",
              "      <th>headline</th>\n",
              "      <th>length of sentence</th>\n",
              "    </tr>\n",
              "  </thead>\n",
              "  <tbody>\n",
              "    <tr>\n",
              "      <th>0</th>\n",
              "      <td>1</td>\n",
              "      <td>thirtysomething scientists unveil doomsday clo...</td>\n",
              "      <td>8</td>\n",
              "    </tr>\n",
              "    <tr>\n",
              "      <th>1</th>\n",
              "      <td>0</td>\n",
              "      <td>dem rep. totally nails why congress is falling...</td>\n",
              "      <td>13</td>\n",
              "    </tr>\n",
              "    <tr>\n",
              "      <th>2</th>\n",
              "      <td>0</td>\n",
              "      <td>eat your veggies: 9 deliciously different recipes</td>\n",
              "      <td>7</td>\n",
              "    </tr>\n",
              "    <tr>\n",
              "      <th>3</th>\n",
              "      <td>1</td>\n",
              "      <td>inclement weather prevents liar from getting t...</td>\n",
              "      <td>8</td>\n",
              "    </tr>\n",
              "    <tr>\n",
              "      <th>4</th>\n",
              "      <td>1</td>\n",
              "      <td>mother comes pretty close to using word 'strea...</td>\n",
              "      <td>9</td>\n",
              "    </tr>\n",
              "  </tbody>\n",
              "</table>\n",
              "</div>"
            ],
            "text/plain": [
              "   is_sarcastic  ... length of sentence\n",
              "0             1  ...                  8\n",
              "1             0  ...                 13\n",
              "2             0  ...                  7\n",
              "3             1  ...                  8\n",
              "4             1  ...                  9\n",
              "\n",
              "[5 rows x 3 columns]"
            ]
          },
          "execution_count": 46,
          "metadata": {
            "tags": []
          },
          "output_type": "execute_result"
        }
      ],
      "source": [
        "df['length of sentence'] = df.headline.apply(lambda x: len(str(x).split(' ')))\n",
        "df.head()"
      ]
    },
    {
      "cell_type": "markdown",
      "metadata": {
        "id": "ApZq6MAANxjH"
      },
      "source": [
        "Preprocessing"
      ]
    },
    {
      "cell_type": "code",
      "execution_count": null,
      "metadata": {
        "id": "fJ1yrBvyyZYT"
      },
      "outputs": [],
      "source": [
        "# remove unwanted characters but keep the alphanum\n",
        "pattern = \"[^\\w ]\"\n",
        "df.headline = df.headline.apply(lambda s : re.sub(pattern,\"\",s))"
      ]
    },
    {
      "cell_type": "code",
      "execution_count": null,
      "metadata": {
        "id": "P-keWCyJyqfc"
      },
      "outputs": [],
      "source": [
        "#covert all texts in text columns into lower case\n",
        "df.headline = df.headline.apply(lambda s: s.lower())"
      ]
    },
    {
      "cell_type": "code",
      "execution_count": null,
      "metadata": {
        "id": "N645vTnayz5E"
      },
      "outputs": [],
      "source": [
        "#remove unwanted spaces\n",
        "df.headline = df.headline.apply(lambda s: s.strip())"
      ]
    },
    {
      "cell_type": "code",
      "execution_count": null,
      "metadata": {
        "id": "REjqXsMh-r80"
      },
      "outputs": [],
      "source": [
        "stopwords = set(stopwords.words('english'))\n",
        "df.headline = df.headline.apply(lambda x: ' '.join([word for word in x.split() if word not in stopwords]))"
      ]
    },
    {
      "cell_type": "code",
      "execution_count": null,
      "metadata": {
        "colab": {
          "base_uri": "https://localhost:8080/",
          "height": 204
        },
        "id": "tdILJlvv-_96",
        "outputId": "fd27ed78-c963-42c0-a792-da1aa168366a"
      },
      "outputs": [
        {
          "data": {
            "text/html": [
              "<div>\n",
              "<style scoped>\n",
              "    .dataframe tbody tr th:only-of-type {\n",
              "        vertical-align: middle;\n",
              "    }\n",
              "\n",
              "    .dataframe tbody tr th {\n",
              "        vertical-align: top;\n",
              "    }\n",
              "\n",
              "    .dataframe thead th {\n",
              "        text-align: right;\n",
              "    }\n",
              "</style>\n",
              "<table border=\"1\" class=\"dataframe\">\n",
              "  <thead>\n",
              "    <tr style=\"text-align: right;\">\n",
              "      <th></th>\n",
              "      <th>is_sarcastic</th>\n",
              "      <th>headline</th>\n",
              "      <th>length of sentence</th>\n",
              "    </tr>\n",
              "  </thead>\n",
              "  <tbody>\n",
              "    <tr>\n",
              "      <th>0</th>\n",
              "      <td>1</td>\n",
              "      <td>thirtysomething scientists unveil doomsday clo...</td>\n",
              "      <td>8</td>\n",
              "    </tr>\n",
              "    <tr>\n",
              "      <th>1</th>\n",
              "      <td>0</td>\n",
              "      <td>dem rep totally nails congress falling short g...</td>\n",
              "      <td>13</td>\n",
              "    </tr>\n",
              "    <tr>\n",
              "      <th>2</th>\n",
              "      <td>0</td>\n",
              "      <td>eat veggies 9 deliciously different recipes</td>\n",
              "      <td>7</td>\n",
              "    </tr>\n",
              "    <tr>\n",
              "      <th>3</th>\n",
              "      <td>1</td>\n",
              "      <td>inclement weather prevents liar getting work</td>\n",
              "      <td>8</td>\n",
              "    </tr>\n",
              "    <tr>\n",
              "      <th>4</th>\n",
              "      <td>1</td>\n",
              "      <td>mother comes pretty close using word streaming...</td>\n",
              "      <td>9</td>\n",
              "    </tr>\n",
              "  </tbody>\n",
              "</table>\n",
              "</div>"
            ],
            "text/plain": [
              "   is_sarcastic  ... length of sentence\n",
              "0             1  ...                  8\n",
              "1             0  ...                 13\n",
              "2             0  ...                  7\n",
              "3             1  ...                  8\n",
              "4             1  ...                  9\n",
              "\n",
              "[5 rows x 3 columns]"
            ]
          },
          "execution_count": 51,
          "metadata": {
            "tags": []
          },
          "output_type": "execute_result"
        }
      ],
      "source": [
        "#recheck data\n",
        "df.head()"
      ]
    },
    {
      "cell_type": "markdown",
      "metadata": {
        "id": "6wqCxMGSN23q"
      },
      "source": [
        "Create feature and labels\n"
      ]
    },
    {
      "cell_type": "code",
      "execution_count": null,
      "metadata": {
        "id": "vH_PwB9VStWr"
      },
      "outputs": [],
      "source": [
        "from sklearn.model_selection import train_test_split\n",
        "X=df['headline'].values\n",
        "y=df['is_sarcastic'].values\n",
        "X_train, X_test, y_train, y_test = train_test_split(X, y, test_size=0.30, random_state=42)"
      ]
    },
    {
      "cell_type": "markdown",
      "metadata": {
        "id": "30lGMlx7N5ja"
      },
      "source": [
        "Define parameters, Tokenize and get indices for words"
      ]
    },
    {
      "cell_type": "code",
      "execution_count": null,
      "metadata": {
        "id": "QJFeoU8kSxCl"
      },
      "outputs": [],
      "source": [
        "vocab_size=10000\n",
        "embedding_dim=100\n",
        "max_length=32\n",
        "trunc_type='post'\n",
        "padding_type='post'\n",
        "oov_tok='<oov>'\n",
        "from tensorflow.keras.preprocessing.text import Tokenizer\n",
        "from tensorflow.keras.preprocessing.sequence import pad_sequences\n",
        "tokenizer= Tokenizer(num_words=vocab_size, oov_token=oov_tok)\n",
        "tokenizer.fit_on_texts(X_train)\n",
        "word_index=tokenizer.word_index\n",
        "training_sequences=tokenizer.texts_to_sequences(X_train)\n",
        "training_padded=pad_sequences(training_sequences, maxlen=max_length, padding=padding_type, truncating=trunc_type)\n",
        "testing_sequences=tokenizer.texts_to_sequences(X_test)\n",
        "testing_padded=pad_sequences(testing_sequences, maxlen=max_length, padding=padding_type, truncating=trunc_type)"
      ]
    },
    {
      "cell_type": "markdown",
      "metadata": {
        "id": "49DtH_EiOkSn"
      },
      "source": [
        "Build a dense network first"
      ]
    },
    {
      "cell_type": "code",
      "execution_count": null,
      "metadata": {
        "colab": {
          "base_uri": "https://localhost:8080/"
        },
        "id": "FGrDleTDS2xy",
        "outputId": "00975259-9f43-4c11-f04b-4ecd5a66204c"
      },
      "outputs": [
        {
          "name": "stdout",
          "output_type": "stream",
          "text": [
            "Model: \"sequential_2\"\n",
            "_________________________________________________________________\n",
            "Layer (type)                 Output Shape              Param #   \n",
            "=================================================================\n",
            "embedding_2 (Embedding)      (None, 32, 100)           1000000   \n",
            "_________________________________________________________________\n",
            "flatten_1 (Flatten)          (None, 3200)              0         \n",
            "_________________________________________________________________\n",
            "dense_5 (Dense)              (None, 32)                102432    \n",
            "_________________________________________________________________\n",
            "dropout_3 (Dropout)          (None, 32)                0         \n",
            "_________________________________________________________________\n",
            "dense_6 (Dense)              (None, 10)                330       \n",
            "_________________________________________________________________\n",
            "dropout_4 (Dropout)          (None, 10)                0         \n",
            "_________________________________________________________________\n",
            "dense_7 (Dense)              (None, 1)                 11        \n",
            "=================================================================\n",
            "Total params: 1,102,773\n",
            "Trainable params: 1,102,773\n",
            "Non-trainable params: 0\n",
            "_________________________________________________________________\n"
          ]
        }
      ],
      "source": [
        "model = Sequential()\n",
        "model.add(Embedding(vocab_size, embedding_dim, input_length=max_length))\n",
        "model.add(Flatten())\n",
        "model.add(Dense(units=32,activation='relu'))\n",
        "model.add(Dropout(0.5))\n",
        "model.add(Dense(units=10,activation='relu'))\n",
        "model.add(Dropout(0.5))\n",
        "model.add(Dense(units=1,activation='sigmoid'))\n",
        "opt = keras.optimizers.Adam(learning_rate=0.0001)\n",
        "model.compile(loss='binary_crossentropy', optimizer=opt, metrics=['accuracy'])\n",
        "model.summary()"
      ]
    },
    {
      "cell_type": "markdown",
      "metadata": {
        "id": "tz_ZyX-EO93K"
      },
      "source": [
        "Create weight matrix using GloVe embeddings"
      ]
    },
    {
      "cell_type": "code",
      "execution_count": null,
      "metadata": {
        "id": "5iwq9hqQPL8g"
      },
      "outputs": [],
      "source": [
        "!mkdir -p dense_model_output"
      ]
    },
    {
      "cell_type": "code",
      "execution_count": null,
      "metadata": {
        "id": "jUND412-_HlP"
      },
      "outputs": [],
      "source": [
        "os.chdir('/content/drive/MyDrive')"
      ]
    },
    {
      "cell_type": "code",
      "execution_count": null,
      "metadata": {
        "id": "J1LVFEKnPfm5"
      },
      "outputs": [],
      "source": [
        "!pwd\n",
        "!ls"
      ]
    },
    {
      "cell_type": "code",
      "execution_count": null,
      "metadata": {
        "colab": {
          "base_uri": "https://localhost:8080/"
        },
        "id": "iahf52hr_VNR",
        "outputId": "e023b509-c6d0-4bb4-bd23-57b95d140036"
      },
      "outputs": [
        {
          "name": "stdout",
          "output_type": "stream",
          "text": [
            "Archive:  glove.6B.zip\n",
            "  inflating: glove.6B.50d.txt        \n",
            "  inflating: glove.6B.100d.txt       \n",
            "  inflating: glove.6B.200d.txt       \n",
            "  inflating: glove.6B.300d.txt       \n"
          ]
        }
      ],
      "source": [
        "!unzip 'glove.6B.zip'"
      ]
    },
    {
      "cell_type": "code",
      "execution_count": null,
      "metadata": {
        "colab": {
          "base_uri": "https://localhost:8080/"
        },
        "id": "HWgTOx-M_hXv",
        "outputId": "9b91aa99-c197-479c-c981-caff8b62842d"
      },
      "outputs": [
        {
          "name": "stdout",
          "output_type": "stream",
          "text": [
            "Found 400000 word vectors.\n"
          ]
        }
      ],
      "source": [
        "glove_dir = '/content/drive/MyDrive'\n",
        "embeddings_index = {}\n",
        "f = open(os.path.join(glove_dir, 'glove.6B.100d.txt'))\n",
        "for line in f:\n",
        "    values = line.split()\n",
        "    word = values[0]\n",
        "    coefs = np.asarray(values[1:], dtype='float32')\n",
        "    embeddings_index[word] = coefs\n",
        "f.close()\n",
        "\n",
        "print('Found %s word vectors.' % len(embeddings_index))"
      ]
    },
    {
      "cell_type": "code",
      "execution_count": null,
      "metadata": {
        "id": "KfzdiDDV_nkd"
      },
      "outputs": [],
      "source": [
        "embedding_dim = 100\n",
        "embedding_matrix = np.zeros((vocab_size, embedding_dim))\n",
        "for word, i in word_index.items():\n",
        "  if i<vocab_size:\n",
        "    embedding_vector = embeddings_index.get(word)\n",
        "    if embedding_vector is not None:\n",
        "      embedding_matrix[i] = embedding_vector"
      ]
    },
    {
      "cell_type": "markdown",
      "metadata": {
        "id": "0hBlfHLERrLL"
      },
      "source": [
        "Adding the weights from the glove embedding"
      ]
    },
    {
      "cell_type": "code",
      "execution_count": null,
      "metadata": {
        "id": "Y-OZOQ3otrI1"
      },
      "outputs": [],
      "source": [
        "model.layers[0].set_weights([embedding_matrix])\n",
        "model.layers[0].trainable = False"
      ]
    },
    {
      "cell_type": "code",
      "execution_count": null,
      "metadata": {
        "colab": {
          "base_uri": "https://localhost:8080/"
        },
        "id": "X9yGCuJGS3l4",
        "outputId": "23be529a-637f-4fd6-9e89-4bc015742c74"
      },
      "outputs": [
        {
          "name": "stdout",
          "output_type": "stream",
          "text": [
            "Epoch 1/100\n",
            "79/79 [==============================] - 2s 15ms/step - loss: 0.7081 - accuracy: 0.5243 - val_loss: 0.6815 - val_accuracy: 0.5811\n",
            "Epoch 2/100\n",
            "79/79 [==============================] - 1s 11ms/step - loss: 0.6874 - accuracy: 0.5440 - val_loss: 0.6702 - val_accuracy: 0.6251\n",
            "Epoch 3/100\n",
            "79/79 [==============================] - 1s 11ms/step - loss: 0.6741 - accuracy: 0.5650 - val_loss: 0.6533 - val_accuracy: 0.6529\n",
            "Epoch 4/100\n",
            "79/79 [==============================] - 1s 10ms/step - loss: 0.6599 - accuracy: 0.5915 - val_loss: 0.6353 - val_accuracy: 0.6740\n",
            "Epoch 5/100\n",
            "79/79 [==============================] - 1s 10ms/step - loss: 0.6466 - accuracy: 0.6157 - val_loss: 0.6191 - val_accuracy: 0.6915\n",
            "Epoch 6/100\n",
            "79/79 [==============================] - 1s 10ms/step - loss: 0.6379 - accuracy: 0.6263 - val_loss: 0.6075 - val_accuracy: 0.7056\n",
            "Epoch 7/100\n",
            "79/79 [==============================] - 1s 10ms/step - loss: 0.6234 - accuracy: 0.6405 - val_loss: 0.5946 - val_accuracy: 0.7156\n",
            "Epoch 8/100\n",
            "79/79 [==============================] - 1s 10ms/step - loss: 0.6117 - accuracy: 0.6547 - val_loss: 0.5838 - val_accuracy: 0.7197\n",
            "Epoch 9/100\n",
            "79/79 [==============================] - 1s 11ms/step - loss: 0.6058 - accuracy: 0.6513 - val_loss: 0.5708 - val_accuracy: 0.7282\n",
            "Epoch 10/100\n",
            "79/79 [==============================] - 1s 10ms/step - loss: 0.5912 - accuracy: 0.6728 - val_loss: 0.5589 - val_accuracy: 0.7354\n",
            "Epoch 11/100\n",
            "79/79 [==============================] - 1s 10ms/step - loss: 0.5854 - accuracy: 0.6902 - val_loss: 0.5503 - val_accuracy: 0.7397\n",
            "Epoch 12/100\n",
            "79/79 [==============================] - 1s 10ms/step - loss: 0.5669 - accuracy: 0.6980 - val_loss: 0.5397 - val_accuracy: 0.7451\n",
            "Epoch 13/100\n",
            "79/79 [==============================] - 1s 10ms/step - loss: 0.5554 - accuracy: 0.7161 - val_loss: 0.5303 - val_accuracy: 0.7534\n",
            "Epoch 14/100\n",
            "79/79 [==============================] - 1s 10ms/step - loss: 0.5533 - accuracy: 0.7182 - val_loss: 0.5233 - val_accuracy: 0.7543\n",
            "Epoch 15/100\n",
            "79/79 [==============================] - 1s 10ms/step - loss: 0.5485 - accuracy: 0.7252 - val_loss: 0.5135 - val_accuracy: 0.7589\n",
            "Epoch 16/100\n",
            "79/79 [==============================] - 1s 11ms/step - loss: 0.5356 - accuracy: 0.7333 - val_loss: 0.5065 - val_accuracy: 0.7631\n",
            "Epoch 17/100\n",
            "79/79 [==============================] - 1s 10ms/step - loss: 0.5275 - accuracy: 0.7440 - val_loss: 0.4985 - val_accuracy: 0.7667\n",
            "Epoch 18/100\n",
            "79/79 [==============================] - 1s 10ms/step - loss: 0.5142 - accuracy: 0.7455 - val_loss: 0.4937 - val_accuracy: 0.7678\n",
            "Epoch 19/100\n",
            "79/79 [==============================] - 1s 10ms/step - loss: 0.5021 - accuracy: 0.7619 - val_loss: 0.4879 - val_accuracy: 0.7716\n",
            "Epoch 20/100\n",
            "79/79 [==============================] - 1s 11ms/step - loss: 0.4881 - accuracy: 0.7704 - val_loss: 0.4807 - val_accuracy: 0.7750\n",
            "Epoch 21/100\n",
            "79/79 [==============================] - 1s 11ms/step - loss: 0.4814 - accuracy: 0.7792 - val_loss: 0.4762 - val_accuracy: 0.7778\n",
            "Epoch 22/100\n",
            "79/79 [==============================] - 1s 11ms/step - loss: 0.4755 - accuracy: 0.7751 - val_loss: 0.4708 - val_accuracy: 0.7805\n",
            "Epoch 23/100\n",
            "79/79 [==============================] - 1s 10ms/step - loss: 0.4704 - accuracy: 0.7862 - val_loss: 0.4669 - val_accuracy: 0.7814\n",
            "Epoch 24/100\n",
            "79/79 [==============================] - 1s 10ms/step - loss: 0.4597 - accuracy: 0.7880 - val_loss: 0.4619 - val_accuracy: 0.7826\n",
            "Epoch 25/100\n",
            "79/79 [==============================] - 1s 10ms/step - loss: 0.4466 - accuracy: 0.7970 - val_loss: 0.4591 - val_accuracy: 0.7856\n",
            "Epoch 26/100\n",
            "79/79 [==============================] - 1s 10ms/step - loss: 0.4381 - accuracy: 0.8051 - val_loss: 0.4553 - val_accuracy: 0.7867\n",
            "Epoch 27/100\n",
            "79/79 [==============================] - 1s 10ms/step - loss: 0.4334 - accuracy: 0.8113 - val_loss: 0.4523 - val_accuracy: 0.7883\n",
            "Epoch 28/100\n",
            "79/79 [==============================] - 1s 11ms/step - loss: 0.4230 - accuracy: 0.8110 - val_loss: 0.4490 - val_accuracy: 0.7895\n",
            "Epoch 29/100\n",
            "79/79 [==============================] - 1s 11ms/step - loss: 0.4104 - accuracy: 0.8233 - val_loss: 0.4469 - val_accuracy: 0.7918\n",
            "Epoch 30/100\n",
            "79/79 [==============================] - 1s 11ms/step - loss: 0.4064 - accuracy: 0.8222 - val_loss: 0.4459 - val_accuracy: 0.7934\n",
            "Epoch 31/100\n",
            "79/79 [==============================] - 1s 11ms/step - loss: 0.3988 - accuracy: 0.8276 - val_loss: 0.4426 - val_accuracy: 0.7932\n",
            "Epoch 32/100\n",
            "79/79 [==============================] - 1s 11ms/step - loss: 0.3910 - accuracy: 0.8313 - val_loss: 0.4409 - val_accuracy: 0.7963\n",
            "Epoch 33/100\n",
            "79/79 [==============================] - 1s 10ms/step - loss: 0.3843 - accuracy: 0.8345 - val_loss: 0.4400 - val_accuracy: 0.7978\n",
            "Epoch 34/100\n",
            "79/79 [==============================] - 1s 11ms/step - loss: 0.3720 - accuracy: 0.8413 - val_loss: 0.4385 - val_accuracy: 0.7963\n",
            "Epoch 35/100\n",
            "79/79 [==============================] - 1s 11ms/step - loss: 0.3612 - accuracy: 0.8507 - val_loss: 0.4396 - val_accuracy: 0.8005\n",
            "Epoch 36/100\n",
            "79/79 [==============================] - 1s 11ms/step - loss: 0.3618 - accuracy: 0.8464 - val_loss: 0.4383 - val_accuracy: 0.8008\n",
            "Epoch 37/100\n",
            "79/79 [==============================] - 1s 11ms/step - loss: 0.3498 - accuracy: 0.8524 - val_loss: 0.4379 - val_accuracy: 0.8006\n",
            "Epoch 38/100\n",
            "79/79 [==============================] - 1s 10ms/step - loss: 0.3434 - accuracy: 0.8569 - val_loss: 0.4379 - val_accuracy: 0.8007\n",
            "Epoch 39/100\n",
            "79/79 [==============================] - 1s 10ms/step - loss: 0.3354 - accuracy: 0.8639 - val_loss: 0.4388 - val_accuracy: 0.8032\n",
            "Epoch 40/100\n",
            "79/79 [==============================] - 1s 11ms/step - loss: 0.3288 - accuracy: 0.8668 - val_loss: 0.4396 - val_accuracy: 0.8049\n",
            "Epoch 41/100\n",
            "79/79 [==============================] - 1s 11ms/step - loss: 0.3145 - accuracy: 0.8738 - val_loss: 0.4392 - val_accuracy: 0.8031\n",
            "Epoch 42/100\n",
            "79/79 [==============================] - 1s 11ms/step - loss: 0.3175 - accuracy: 0.8751 - val_loss: 0.4422 - val_accuracy: 0.8061\n",
            "Epoch 00042: early stopping\n"
          ]
        },
        {
          "data": {
            "text/plain": [
              "<keras.callbacks.History at 0x7f7bda1a2c10>"
            ]
          },
          "execution_count": 61,
          "metadata": {
            "tags": []
          },
          "output_type": "execute_result"
        }
      ],
      "source": [
        "early_stop = EarlyStopping(monitor='val_loss', mode='min', verbose=1, patience=5)\n",
        "model.fit(x=training_padded, y=y_train, batch_size=256, epochs=100, validation_data=(testing_padded, y_test), verbose=1, callbacks=[early_stop])"
      ]
    },
    {
      "cell_type": "code",
      "execution_count": null,
      "metadata": {
        "colab": {
          "base_uri": "https://localhost:8080/",
          "height": 1000
        },
        "id": "RzBXRMFwS8Vk",
        "outputId": "953cb5cf-8912-4ce8-c6e7-e24b74edcd9a"
      },
      "outputs": [
        {
          "data": {
            "text/html": [
              "<div>\n",
              "<style scoped>\n",
              "    .dataframe tbody tr th:only-of-type {\n",
              "        vertical-align: middle;\n",
              "    }\n",
              "\n",
              "    .dataframe tbody tr th {\n",
              "        vertical-align: top;\n",
              "    }\n",
              "\n",
              "    .dataframe thead th {\n",
              "        text-align: right;\n",
              "    }\n",
              "</style>\n",
              "<table border=\"1\" class=\"dataframe\">\n",
              "  <thead>\n",
              "    <tr style=\"text-align: right;\">\n",
              "      <th></th>\n",
              "      <th>loss</th>\n",
              "      <th>accuracy</th>\n",
              "      <th>val_loss</th>\n",
              "      <th>val_accuracy</th>\n",
              "      <th>Epoch</th>\n",
              "    </tr>\n",
              "    <tr>\n",
              "      <th>Epoch</th>\n",
              "      <th></th>\n",
              "      <th></th>\n",
              "      <th></th>\n",
              "      <th></th>\n",
              "      <th></th>\n",
              "    </tr>\n",
              "  </thead>\n",
              "  <tbody>\n",
              "    <tr>\n",
              "      <th>1</th>\n",
              "      <td>0.699871</td>\n",
              "      <td>0.524784</td>\n",
              "      <td>0.681495</td>\n",
              "      <td>0.581062</td>\n",
              "      <td>1</td>\n",
              "    </tr>\n",
              "    <tr>\n",
              "      <th>2</th>\n",
              "      <td>0.685754</td>\n",
              "      <td>0.545899</td>\n",
              "      <td>0.670211</td>\n",
              "      <td>0.625087</td>\n",
              "      <td>2</td>\n",
              "    </tr>\n",
              "    <tr>\n",
              "      <th>3</th>\n",
              "      <td>0.670354</td>\n",
              "      <td>0.572406</td>\n",
              "      <td>0.653330</td>\n",
              "      <td>0.652923</td>\n",
              "      <td>3</td>\n",
              "    </tr>\n",
              "    <tr>\n",
              "      <th>4</th>\n",
              "      <td>0.657690</td>\n",
              "      <td>0.593970</td>\n",
              "      <td>0.635319</td>\n",
              "      <td>0.674004</td>\n",
              "      <td>4</td>\n",
              "    </tr>\n",
              "    <tr>\n",
              "      <th>5</th>\n",
              "      <td>0.643332</td>\n",
              "      <td>0.619777</td>\n",
              "      <td>0.619087</td>\n",
              "      <td>0.691474</td>\n",
              "      <td>5</td>\n",
              "    </tr>\n",
              "    <tr>\n",
              "      <th>6</th>\n",
              "      <td>0.634866</td>\n",
              "      <td>0.628812</td>\n",
              "      <td>0.607478</td>\n",
              "      <td>0.705567</td>\n",
              "      <td>6</td>\n",
              "    </tr>\n",
              "    <tr>\n",
              "      <th>7</th>\n",
              "      <td>0.622120</td>\n",
              "      <td>0.643388</td>\n",
              "      <td>0.594553</td>\n",
              "      <td>0.715584</td>\n",
              "      <td>7</td>\n",
              "    </tr>\n",
              "    <tr>\n",
              "      <th>8</th>\n",
              "      <td>0.612615</td>\n",
              "      <td>0.652673</td>\n",
              "      <td>0.583778</td>\n",
              "      <td>0.719660</td>\n",
              "      <td>8</td>\n",
              "    </tr>\n",
              "    <tr>\n",
              "      <th>9</th>\n",
              "      <td>0.600648</td>\n",
              "      <td>0.663455</td>\n",
              "      <td>0.570825</td>\n",
              "      <td>0.728162</td>\n",
              "      <td>9</td>\n",
              "    </tr>\n",
              "    <tr>\n",
              "      <th>10</th>\n",
              "      <td>0.587794</td>\n",
              "      <td>0.675835</td>\n",
              "      <td>0.558929</td>\n",
              "      <td>0.735383</td>\n",
              "      <td>10</td>\n",
              "    </tr>\n",
              "    <tr>\n",
              "      <th>11</th>\n",
              "      <td>0.581473</td>\n",
              "      <td>0.690061</td>\n",
              "      <td>0.550328</td>\n",
              "      <td>0.739693</td>\n",
              "      <td>11</td>\n",
              "    </tr>\n",
              "    <tr>\n",
              "      <th>12</th>\n",
              "      <td>0.568729</td>\n",
              "      <td>0.699296</td>\n",
              "      <td>0.539657</td>\n",
              "      <td>0.745050</td>\n",
              "      <td>12</td>\n",
              "    </tr>\n",
              "    <tr>\n",
              "      <th>13</th>\n",
              "      <td>0.555127</td>\n",
              "      <td>0.713623</td>\n",
              "      <td>0.530254</td>\n",
              "      <td>0.753436</td>\n",
              "      <td>13</td>\n",
              "    </tr>\n",
              "    <tr>\n",
              "      <th>14</th>\n",
              "      <td>0.551843</td>\n",
              "      <td>0.718015</td>\n",
              "      <td>0.523301</td>\n",
              "      <td>0.754251</td>\n",
              "      <td>14</td>\n",
              "    </tr>\n",
              "    <tr>\n",
              "      <th>15</th>\n",
              "      <td>0.544721</td>\n",
              "      <td>0.728698</td>\n",
              "      <td>0.513489</td>\n",
              "      <td>0.758910</td>\n",
              "      <td>15</td>\n",
              "    </tr>\n",
              "    <tr>\n",
              "      <th>16</th>\n",
              "      <td>0.532477</td>\n",
              "      <td>0.735486</td>\n",
              "      <td>0.506520</td>\n",
              "      <td>0.763103</td>\n",
              "      <td>16</td>\n",
              "    </tr>\n",
              "    <tr>\n",
              "      <th>17</th>\n",
              "      <td>0.522620</td>\n",
              "      <td>0.745170</td>\n",
              "      <td>0.498550</td>\n",
              "      <td>0.766713</td>\n",
              "      <td>17</td>\n",
              "    </tr>\n",
              "    <tr>\n",
              "      <th>18</th>\n",
              "      <td>0.510996</td>\n",
              "      <td>0.750661</td>\n",
              "      <td>0.493651</td>\n",
              "      <td>0.767761</td>\n",
              "      <td>18</td>\n",
              "    </tr>\n",
              "    <tr>\n",
              "      <th>19</th>\n",
              "      <td>0.504810</td>\n",
              "      <td>0.759497</td>\n",
              "      <td>0.487895</td>\n",
              "      <td>0.771605</td>\n",
              "      <td>19</td>\n",
              "    </tr>\n",
              "    <tr>\n",
              "      <th>20</th>\n",
              "      <td>0.488784</td>\n",
              "      <td>0.766485</td>\n",
              "      <td>0.480679</td>\n",
              "      <td>0.774983</td>\n",
              "      <td>20</td>\n",
              "    </tr>\n",
              "    <tr>\n",
              "      <th>21</th>\n",
              "      <td>0.484822</td>\n",
              "      <td>0.775221</td>\n",
              "      <td>0.476175</td>\n",
              "      <td>0.777778</td>\n",
              "      <td>21</td>\n",
              "    </tr>\n",
              "    <tr>\n",
              "      <th>22</th>\n",
              "      <td>0.475325</td>\n",
              "      <td>0.778965</td>\n",
              "      <td>0.470842</td>\n",
              "      <td>0.780457</td>\n",
              "      <td>22</td>\n",
              "    </tr>\n",
              "    <tr>\n",
              "      <th>23</th>\n",
              "      <td>0.469656</td>\n",
              "      <td>0.784456</td>\n",
              "      <td>0.466892</td>\n",
              "      <td>0.781388</td>\n",
              "      <td>23</td>\n",
              "    </tr>\n",
              "    <tr>\n",
              "      <th>24</th>\n",
              "      <td>0.456086</td>\n",
              "      <td>0.791195</td>\n",
              "      <td>0.461933</td>\n",
              "      <td>0.782553</td>\n",
              "      <td>24</td>\n",
              "    </tr>\n",
              "    <tr>\n",
              "      <th>25</th>\n",
              "      <td>0.444795</td>\n",
              "      <td>0.798532</td>\n",
              "      <td>0.459075</td>\n",
              "      <td>0.785581</td>\n",
              "      <td>25</td>\n",
              "    </tr>\n",
              "    <tr>\n",
              "      <th>26</th>\n",
              "      <td>0.438100</td>\n",
              "      <td>0.804473</td>\n",
              "      <td>0.455273</td>\n",
              "      <td>0.786746</td>\n",
              "      <td>26</td>\n",
              "    </tr>\n",
              "    <tr>\n",
              "      <th>27</th>\n",
              "      <td>0.431887</td>\n",
              "      <td>0.809814</td>\n",
              "      <td>0.452266</td>\n",
              "      <td>0.788260</td>\n",
              "      <td>27</td>\n",
              "    </tr>\n",
              "    <tr>\n",
              "      <th>28</th>\n",
              "      <td>0.418799</td>\n",
              "      <td>0.816353</td>\n",
              "      <td>0.449041</td>\n",
              "      <td>0.789541</td>\n",
              "      <td>28</td>\n",
              "    </tr>\n",
              "    <tr>\n",
              "      <th>29</th>\n",
              "      <td>0.412966</td>\n",
              "      <td>0.822243</td>\n",
              "      <td>0.446855</td>\n",
              "      <td>0.791754</td>\n",
              "      <td>29</td>\n",
              "    </tr>\n",
              "    <tr>\n",
              "      <th>30</th>\n",
              "      <td>0.403518</td>\n",
              "      <td>0.825288</td>\n",
              "      <td>0.445941</td>\n",
              "      <td>0.793385</td>\n",
              "      <td>30</td>\n",
              "    </tr>\n",
              "    <tr>\n",
              "      <th>31</th>\n",
              "      <td>0.397189</td>\n",
              "      <td>0.829931</td>\n",
              "      <td>0.442583</td>\n",
              "      <td>0.793152</td>\n",
              "      <td>31</td>\n",
              "    </tr>\n",
              "    <tr>\n",
              "      <th>32</th>\n",
              "      <td>0.388931</td>\n",
              "      <td>0.832876</td>\n",
              "      <td>0.440923</td>\n",
              "      <td>0.796296</td>\n",
              "      <td>32</td>\n",
              "    </tr>\n",
              "    <tr>\n",
              "      <th>33</th>\n",
              "      <td>0.379301</td>\n",
              "      <td>0.839764</td>\n",
              "      <td>0.440039</td>\n",
              "      <td>0.797810</td>\n",
              "      <td>33</td>\n",
              "    </tr>\n",
              "    <tr>\n",
              "      <th>34</th>\n",
              "      <td>0.369201</td>\n",
              "      <td>0.846154</td>\n",
              "      <td>0.438524</td>\n",
              "      <td>0.796296</td>\n",
              "      <td>34</td>\n",
              "    </tr>\n",
              "    <tr>\n",
              "      <th>35</th>\n",
              "      <td>0.361258</td>\n",
              "      <td>0.850746</td>\n",
              "      <td>0.439597</td>\n",
              "      <td>0.800489</td>\n",
              "      <td>35</td>\n",
              "    </tr>\n",
              "    <tr>\n",
              "      <th>36</th>\n",
              "      <td>0.356470</td>\n",
              "      <td>0.851245</td>\n",
              "      <td>0.438325</td>\n",
              "      <td>0.800839</td>\n",
              "      <td>36</td>\n",
              "    </tr>\n",
              "    <tr>\n",
              "      <th>37</th>\n",
              "      <td>0.346901</td>\n",
              "      <td>0.854490</td>\n",
              "      <td>0.437879</td>\n",
              "      <td>0.800606</td>\n",
              "      <td>37</td>\n",
              "    </tr>\n",
              "    <tr>\n",
              "      <th>38</th>\n",
              "      <td>0.342715</td>\n",
              "      <td>0.857835</td>\n",
              "      <td>0.437905</td>\n",
              "      <td>0.800722</td>\n",
              "      <td>38</td>\n",
              "    </tr>\n",
              "    <tr>\n",
              "      <th>39</th>\n",
              "      <td>0.334523</td>\n",
              "      <td>0.863925</td>\n",
              "      <td>0.438764</td>\n",
              "      <td>0.803168</td>\n",
              "      <td>39</td>\n",
              "    </tr>\n",
              "    <tr>\n",
              "      <th>40</th>\n",
              "      <td>0.328357</td>\n",
              "      <td>0.864923</td>\n",
              "      <td>0.439604</td>\n",
              "      <td>0.804915</td>\n",
              "      <td>40</td>\n",
              "    </tr>\n",
              "    <tr>\n",
              "      <th>41</th>\n",
              "      <td>0.320333</td>\n",
              "      <td>0.869615</td>\n",
              "      <td>0.439206</td>\n",
              "      <td>0.803051</td>\n",
              "      <td>41</td>\n",
              "    </tr>\n",
              "    <tr>\n",
              "      <th>42</th>\n",
              "      <td>0.314275</td>\n",
              "      <td>0.874507</td>\n",
              "      <td>0.442209</td>\n",
              "      <td>0.806080</td>\n",
              "      <td>42</td>\n",
              "    </tr>\n",
              "  </tbody>\n",
              "</table>\n",
              "</div>"
            ],
            "text/plain": [
              "           loss  accuracy  val_loss  val_accuracy  Epoch\n",
              "Epoch                                                   \n",
              "1      0.699871  0.524784  0.681495      0.581062      1\n",
              "2      0.685754  0.545899  0.670211      0.625087      2\n",
              "3      0.670354  0.572406  0.653330      0.652923      3\n",
              "4      0.657690  0.593970  0.635319      0.674004      4\n",
              "5      0.643332  0.619777  0.619087      0.691474      5\n",
              "6      0.634866  0.628812  0.607478      0.705567      6\n",
              "7      0.622120  0.643388  0.594553      0.715584      7\n",
              "8      0.612615  0.652673  0.583778      0.719660      8\n",
              "9      0.600648  0.663455  0.570825      0.728162      9\n",
              "10     0.587794  0.675835  0.558929      0.735383     10\n",
              "11     0.581473  0.690061  0.550328      0.739693     11\n",
              "12     0.568729  0.699296  0.539657      0.745050     12\n",
              "13     0.555127  0.713623  0.530254      0.753436     13\n",
              "14     0.551843  0.718015  0.523301      0.754251     14\n",
              "15     0.544721  0.728698  0.513489      0.758910     15\n",
              "16     0.532477  0.735486  0.506520      0.763103     16\n",
              "17     0.522620  0.745170  0.498550      0.766713     17\n",
              "18     0.510996  0.750661  0.493651      0.767761     18\n",
              "19     0.504810  0.759497  0.487895      0.771605     19\n",
              "20     0.488784  0.766485  0.480679      0.774983     20\n",
              "21     0.484822  0.775221  0.476175      0.777778     21\n",
              "22     0.475325  0.778965  0.470842      0.780457     22\n",
              "23     0.469656  0.784456  0.466892      0.781388     23\n",
              "24     0.456086  0.791195  0.461933      0.782553     24\n",
              "25     0.444795  0.798532  0.459075      0.785581     25\n",
              "26     0.438100  0.804473  0.455273      0.786746     26\n",
              "27     0.431887  0.809814  0.452266      0.788260     27\n",
              "28     0.418799  0.816353  0.449041      0.789541     28\n",
              "29     0.412966  0.822243  0.446855      0.791754     29\n",
              "30     0.403518  0.825288  0.445941      0.793385     30\n",
              "31     0.397189  0.829931  0.442583      0.793152     31\n",
              "32     0.388931  0.832876  0.440923      0.796296     32\n",
              "33     0.379301  0.839764  0.440039      0.797810     33\n",
              "34     0.369201  0.846154  0.438524      0.796296     34\n",
              "35     0.361258  0.850746  0.439597      0.800489     35\n",
              "36     0.356470  0.851245  0.438325      0.800839     36\n",
              "37     0.346901  0.854490  0.437879      0.800606     37\n",
              "38     0.342715  0.857835  0.437905      0.800722     38\n",
              "39     0.334523  0.863925  0.438764      0.803168     39\n",
              "40     0.328357  0.864923  0.439604      0.804915     40\n",
              "41     0.320333  0.869615  0.439206      0.803051     41\n",
              "42     0.314275  0.874507  0.442209      0.806080     42"
            ]
          },
          "execution_count": 62,
          "metadata": {
            "tags": []
          },
          "output_type": "execute_result"
        }
      ],
      "source": [
        "df_m=pd.DataFrame(model.history.history)\n",
        "df_m['Epoch']=range(1,43)\n",
        "df_m.index=df_m['Epoch']\n",
        "df_m"
      ]
    },
    {
      "cell_type": "code",
      "execution_count": null,
      "metadata": {
        "colab": {
          "base_uri": "https://localhost:8080/"
        },
        "id": "63re8W4wTzLC",
        "outputId": "e841fbba-ad2e-412d-b290-c263c18fdccf"
      },
      "outputs": [
        {
          "name": "stdout",
          "output_type": "stream",
          "text": [
            "135/135 [==============================] - 0s 1ms/step - loss: 0.4422 - accuracy: 0.8061\n",
            "Test accuracy: 0.8060796856880188\n"
          ]
        }
      ],
      "source": [
        "score = model.evaluate(testing_padded, y_test, batch_size=64, verbose=1)\n",
        "print('Test accuracy:', score[1])"
      ]
    },
    {
      "cell_type": "code",
      "execution_count": null,
      "metadata": {
        "colab": {
          "base_uri": "https://localhost:8080/",
          "height": 295
        },
        "id": "XH5LyxiNT0I6",
        "outputId": "55f0f6a6-e32b-47f5-d0cc-1cab73efbd20"
      },
      "outputs": [
        {
          "data": {
            "image/png": "[encoded data removed]",
            "text/plain": [
              "<Figure size 432x288 with 1 Axes>"
            ]
          },
          "metadata": {
            "tags": []
          },
          "output_type": "display_data"
        }
      ],
      "source": [
        "#Loss Graph(Training and Validation)\n",
        "plt.plot(df_m['loss'])\n",
        "plt.plot(df_m['val_loss'])\n",
        "plt.title('model loss')\n",
        "plt.ylabel('loss')\n",
        "plt.xlabel('epoch')\n",
        "plt.legend(['train_loss', 'val_loss'])\n",
        "plt.show()"
      ]
    },
    {
      "cell_type": "code",
      "execution_count": null,
      "metadata": {
        "colab": {
          "base_uri": "https://localhost:8080/",
          "height": 295
        },
        "id": "YUC2kmPET3W8",
        "outputId": "d5333233-d175-48ad-a0de-1d4616784a66"
      },
      "outputs": [
        {
          "data": {
            "image/png": "[encoded data removed]",
            "text/plain": [
              "<Figure size 432x288 with 1 Axes>"
            ]
          },
          "metadata": {
            "tags": []
          },
          "output_type": "display_data"
        }
      ],
      "source": [
        "# Accuracy Graph(Training and Validation) \n",
        "plt.plot(df_m['accuracy'])\n",
        "plt.plot(df_m['val_accuracy'])\n",
        "plt.title('model accuracy')\n",
        "plt.ylabel('accuracy')\n",
        "plt.xlabel('epoch')\n",
        "plt.legend(['train_acc', 'val_acc'])\n",
        "plt.show()"
      ]
    },
    {
      "cell_type": "markdown",
      "metadata": {
        "id": "6yO6IU0LSq7c"
      },
      "source": [
        "Building the CNN Model"
      ]
    },
    {
      "cell_type": "code",
      "execution_count": null,
      "metadata": {
        "id": "yhW_ocGtA9fQ"
      },
      "outputs": [],
      "source": [
        "model_conv = Sequential([\n",
        "    Embedding(vocab_size, embedding_dim, input_length=max_length),\n",
        "    Conv1D(16,3,activation='relu'),\n",
        "    MaxPooling1D(2),\n",
        "    Dropout(0.2),\n",
        "    Flatten(),\n",
        "    Dense(6, activation='relu'),\n",
        "    Dense(1, activation='sigmoid')\n",
        "])\n"
      ]
    },
    {
      "cell_type": "code",
      "execution_count": null,
      "metadata": {
        "colab": {
          "base_uri": "https://localhost:8080/"
        },
        "id": "lsa0JIhaBpzf",
        "outputId": "d3acc64e-7af1-41f8-8124-718ac5264733"
      },
      "outputs": [
        {
          "name": "stdout",
          "output_type": "stream",
          "text": [
            "Model: \"sequential_3\"\n",
            "_________________________________________________________________\n",
            "Layer (type)                 Output Shape              Param #   \n",
            "=================================================================\n",
            "embedding_3 (Embedding)      (None, 32, 100)           1000000   \n",
            "_________________________________________________________________\n",
            "conv1d_1 (Conv1D)            (None, 30, 16)            4816      \n",
            "_________________________________________________________________\n",
            "max_pooling1d (MaxPooling1D) (None, 15, 16)            0         \n",
            "_________________________________________________________________\n",
            "dropout_5 (Dropout)          (None, 15, 16)            0         \n",
            "_________________________________________________________________\n",
            "flatten_2 (Flatten)          (None, 240)               0         \n",
            "_________________________________________________________________\n",
            "dense_8 (Dense)              (None, 6)                 1446      \n",
            "_________________________________________________________________\n",
            "dense_9 (Dense)              (None, 1)                 7         \n",
            "=================================================================\n",
            "Total params: 1,006,269\n",
            "Trainable params: 1,006,269\n",
            "Non-trainable params: 0\n",
            "_________________________________________________________________\n"
          ]
        }
      ],
      "source": [
        "model_conv.summary()"
      ]
    },
    {
      "cell_type": "code",
      "execution_count": null,
      "metadata": {
        "colab": {
          "base_uri": "https://localhost:8080/"
        },
        "id": "GCFZ3M2ZBqni",
        "outputId": "2b933120-76a9-449b-81c2-d5b7f00215a8"
      },
      "outputs": [
        {
          "name": "stdout",
          "output_type": "stream",
          "text": [
            "Epoch 1/20\n",
            "79/79 [==============================] - 2s 14ms/step - loss: 0.6892 - accuracy: 0.5328 - val_loss: 0.6385 - val_accuracy: 0.6558\n",
            "Epoch 2/20\n",
            "79/79 [==============================] - 1s 9ms/step - loss: 0.6089 - accuracy: 0.6684 - val_loss: 0.5527 - val_accuracy: 0.7268\n",
            "Epoch 3/20\n",
            "79/79 [==============================] - 1s 10ms/step - loss: 0.5495 - accuracy: 0.7190 - val_loss: 0.5298 - val_accuracy: 0.7410\n",
            "Epoch 4/20\n",
            "79/79 [==============================] - 1s 9ms/step - loss: 0.5180 - accuracy: 0.7435 - val_loss: 0.5155 - val_accuracy: 0.7517\n",
            "Epoch 5/20\n",
            "79/79 [==============================] - 1s 9ms/step - loss: 0.5029 - accuracy: 0.7539 - val_loss: 0.5062 - val_accuracy: 0.7572\n",
            "Epoch 6/20\n",
            "79/79 [==============================] - 1s 9ms/step - loss: 0.4996 - accuracy: 0.7520 - val_loss: 0.4992 - val_accuracy: 0.7596\n",
            "Epoch 7/20\n",
            "79/79 [==============================] - 1s 10ms/step - loss: 0.4721 - accuracy: 0.7755 - val_loss: 0.4964 - val_accuracy: 0.7595\n",
            "Epoch 8/20\n",
            "79/79 [==============================] - 1s 10ms/step - loss: 0.4675 - accuracy: 0.7758 - val_loss: 0.4971 - val_accuracy: 0.7546\n",
            "Epoch 9/20\n",
            "79/79 [==============================] - 1s 9ms/step - loss: 0.4642 - accuracy: 0.7767 - val_loss: 0.4858 - val_accuracy: 0.7664\n",
            "Epoch 10/20\n",
            "79/79 [==============================] - 1s 10ms/step - loss: 0.4497 - accuracy: 0.7870 - val_loss: 0.4833 - val_accuracy: 0.7679\n",
            "Epoch 11/20\n",
            "79/79 [==============================] - 1s 9ms/step - loss: 0.4526 - accuracy: 0.7865 - val_loss: 0.4809 - val_accuracy: 0.7675\n",
            "Epoch 12/20\n",
            "79/79 [==============================] - 1s 9ms/step - loss: 0.4352 - accuracy: 0.7923 - val_loss: 0.4796 - val_accuracy: 0.7704\n",
            "Epoch 13/20\n",
            "79/79 [==============================] - 1s 9ms/step - loss: 0.4408 - accuracy: 0.7878 - val_loss: 0.4755 - val_accuracy: 0.7714\n",
            "Epoch 14/20\n",
            "79/79 [==============================] - 1s 9ms/step - loss: 0.4354 - accuracy: 0.7889 - val_loss: 0.4763 - val_accuracy: 0.7723\n",
            "Epoch 15/20\n",
            "79/79 [==============================] - 1s 10ms/step - loss: 0.4324 - accuracy: 0.7978 - val_loss: 0.4829 - val_accuracy: 0.7657\n",
            "Epoch 16/20\n",
            "79/79 [==============================] - 1s 9ms/step - loss: 0.4222 - accuracy: 0.8019 - val_loss: 0.4728 - val_accuracy: 0.7739\n",
            "Epoch 17/20\n",
            "79/79 [==============================] - 1s 10ms/step - loss: 0.4235 - accuracy: 0.7982 - val_loss: 0.4718 - val_accuracy: 0.7717\n",
            "Epoch 18/20\n",
            "79/79 [==============================] - 1s 9ms/step - loss: 0.4150 - accuracy: 0.8068 - val_loss: 0.4729 - val_accuracy: 0.7785\n",
            "Epoch 19/20\n",
            "79/79 [==============================] - 1s 10ms/step - loss: 0.4117 - accuracy: 0.8119 - val_loss: 0.4729 - val_accuracy: 0.7744\n",
            "Epoch 20/20\n",
            "79/79 [==============================] - 1s 10ms/step - loss: 0.4079 - accuracy: 0.8114 - val_loss: 0.4721 - val_accuracy: 0.7758\n"
          ]
        }
      ],
      "source": [
        "model_conv.layers[0].set_weights([embedding_matrix])\n",
        "model_conv.layers[0].trainable = False\n",
        "model_conv.compile(loss='binary_crossentropy',optimizer='adam',metrics=['accuracy'])\n",
        "history=model_conv.fit(training_padded, y_train, batch_size=256, epochs=20, validation_data=(testing_padded, y_test), callbacks=[early_stop])"
      ]
    },
    {
      "cell_type": "markdown",
      "metadata": {
        "id": "i6xGBScKUEco"
      },
      "source": [
        "Building the LSTM Model"
      ]
    },
    {
      "cell_type": "code",
      "execution_count": null,
      "metadata": {
        "id": "2_WwJpm_WLvO"
      },
      "outputs": [],
      "source": [
        "model_lstm = Sequential([\n",
        "    Embedding(vocab_size, embedding_dim, input_length=max_length),\n",
        "    keras.layers.Bidirectional(keras.layers.LSTM(32)),\n",
        "    Dense(6, activation='relu'),\n",
        "    Dense(1, activation='sigmoid')\n",
        "])\n"
      ]
    },
    {
      "cell_type": "code",
      "execution_count": null,
      "metadata": {
        "colab": {
          "base_uri": "https://localhost:8080/"
        },
        "id": "uPzF9q0Lv-Sr",
        "outputId": "c014a1ab-7bb6-441c-ae99-e34fcebd7596"
      },
      "outputs": [
        {
          "name": "stdout",
          "output_type": "stream",
          "text": [
            "Model: \"sequential_7\"\n",
            "_________________________________________________________________\n",
            "Layer (type)                 Output Shape              Param #   \n",
            "=================================================================\n",
            "embedding_7 (Embedding)      (None, 32, 100)           1000000   \n",
            "_________________________________________________________________\n",
            "bidirectional_3 (Bidirection (None, 64)                34048     \n",
            "_________________________________________________________________\n",
            "dense_16 (Dense)             (None, 6)                 390       \n",
            "_________________________________________________________________\n",
            "dense_17 (Dense)             (None, 1)                 7         \n",
            "=================================================================\n",
            "Total params: 1,034,445\n",
            "Trainable params: 1,034,445\n",
            "Non-trainable params: 0\n",
            "_________________________________________________________________\n"
          ]
        }
      ],
      "source": [
        "model_lstm.summary()"
      ]
    },
    {
      "cell_type": "code",
      "execution_count": null,
      "metadata": {
        "id": "qpew3wciwLwP"
      },
      "outputs": [],
      "source": [
        "model_lstm.layers[0].set_weights([embedding_matrix])\n",
        "model_lstm.layers[0].trainable = False"
      ]
    },
    {
      "cell_type": "markdown",
      "metadata": {
        "id": "4sscbENbUi8T"
      },
      "source": [
        "Fit the model and check validation accuracy"
      ]
    },
    {
      "cell_type": "code",
      "execution_count": null,
      "metadata": {
        "colab": {
          "base_uri": "https://localhost:8080/"
        },
        "id": "HOeTyYZ3wWoa",
        "outputId": "ee7c553b-5803-4024-de84-af3e5903c272"
      },
      "outputs": [
        {
          "name": "stdout",
          "output_type": "stream",
          "text": [
            "Epoch 1/100\n",
            "314/314 [==============================] - 20s 52ms/step - loss: 0.6131 - accuracy: 0.6591 - val_loss: 0.5258 - val_accuracy: 0.7452\n",
            "Epoch 2/100\n",
            "314/314 [==============================] - 16s 50ms/step - loss: 0.4895 - accuracy: 0.7620 - val_loss: 0.4689 - val_accuracy: 0.7774\n",
            "Epoch 3/100\n",
            "314/314 [==============================] - 15s 49ms/step - loss: 0.4331 - accuracy: 0.7927 - val_loss: 0.4623 - val_accuracy: 0.7802\n",
            "Epoch 4/100\n",
            "314/314 [==============================] - 15s 48ms/step - loss: 0.4043 - accuracy: 0.8111 - val_loss: 0.5075 - val_accuracy: 0.7570\n",
            "Epoch 5/100\n",
            "314/314 [==============================] - 15s 48ms/step - loss: 0.3823 - accuracy: 0.8211 - val_loss: 0.4440 - val_accuracy: 0.7935\n",
            "Epoch 6/100\n",
            "314/314 [==============================] - 15s 49ms/step - loss: 0.3318 - accuracy: 0.8524 - val_loss: 0.4754 - val_accuracy: 0.7793\n",
            "Epoch 7/100\n",
            "314/314 [==============================] - 16s 51ms/step - loss: 0.3097 - accuracy: 0.8647 - val_loss: 0.4453 - val_accuracy: 0.7942\n",
            "Epoch 8/100\n",
            "314/314 [==============================] - 16s 50ms/step - loss: 0.2772 - accuracy: 0.8808 - val_loss: 0.4604 - val_accuracy: 0.7959\n",
            "Epoch 9/100\n",
            "314/314 [==============================] - 16s 51ms/step - loss: 0.2481 - accuracy: 0.8984 - val_loss: 0.4587 - val_accuracy: 0.8042\n",
            "Epoch 10/100\n",
            "314/314 [==============================] - 15s 49ms/step - loss: 0.2304 - accuracy: 0.9082 - val_loss: 0.5447 - val_accuracy: 0.7809\n",
            "Epoch 00010: early stopping\n"
          ]
        }
      ],
      "source": [
        "model_lstm.compile(loss='binary_crossentropy',optimizer='adam',metrics=['accuracy'])\n",
        "early_stop = EarlyStopping(monitor='val_loss', mode='min', verbose=1, patience=5)\n",
        "history_lstm = model_lstm.fit(x=training_padded, y=y_train, batch_size=64, epochs=100, validation_data=(testing_padded, y_test), verbose=1, callbacks=[early_stop])"
      ]
    },
    {
      "cell_type": "code",
      "execution_count": null,
      "metadata": {
        "colab": {
          "base_uri": "https://localhost:8080/"
        },
        "id": "U6kDqLFcUnOJ",
        "outputId": "530d9bc7-94b5-42be-845a-8b7cc843f7a0"
      },
      "outputs": [
        {
          "name": "stdout",
          "output_type": "stream",
          "text": [
            "135/135 [==============================] - 2s 15ms/step - loss: 0.5291 - accuracy: 0.8033\n",
            "Test accuracy: 0.8032844066619873\n"
          ]
        }
      ],
      "source": [
        "score = model_lstm.evaluate(testing_padded, y_test, batch_size=64, verbose=1)\n",
        "print('Test accuracy:', score[1])"
      ]
    },
    {
      "cell_type": "code",
      "execution_count": null,
      "metadata": {
        "colab": {
          "base_uri": "https://localhost:8080/",
          "height": 545
        },
        "id": "LAu-4G1XaPMi",
        "outputId": "d09277b6-2896-4e63-a906-8ceda9898e3c"
      },
      "outputs": [
        {
          "data": {
            "image/png": "[encoded data removed]",
            "text/plain": [
              "<Figure size 432x288 with 1 Axes>"
            ]
          },
          "metadata": {
            "tags": []
          },
          "output_type": "display_data"
        },
        {
          "data": {
            "image/png": "[encoded data removed]",
            "text/plain": [
              "<Figure size 432x288 with 1 Axes>"
            ]
          },
          "metadata": {
            "tags": []
          },
          "output_type": "display_data"
        }
      ],
      "source": [
        "acc = history_lstm.history['accuracy']\n",
        "val_acc = history_lstm.history['val_accuracy']\n",
        "loss = history_lstm.history['loss']\n",
        "val_loss = history_lstm.history['val_loss']\n",
        "epochs = range(1, len(acc) + 1)\n",
        "plt.plot(epochs, acc, 'bo', label = 'Training acc')\n",
        "plt.plot(epochs, val_acc, 'b', label = 'Validation acc')\n",
        "plt.title('Training and Validation Accuracy')\n",
        "plt.legend()\n",
        "plt.figure()\n",
        "plt.plot(epochs, loss, 'bo', label = 'Training loss')\n",
        "plt.plot(epochs, val_loss, 'b', label = 'Validation loss')\n",
        "plt.title('Training and Validation Loss')\n",
        "plt.legend()\n",
        "plt.show()"
      ]
    },
    {
      "cell_type": "markdown",
      "metadata": {
        "id": "fJ3DlOQEb88t"
      },
      "source": [
        "This model did not perform very well compared to the other base models. One particular reason is that my inputs only consider first 32 words, rather than full sequences. Another reason may be not experimenting much with the embedding dimensionality or the LSTM output. Another reason can be the lesser try with regularization. However, the primary reason here is that analyzing the global long term structure of the reviews isn't helpful in solving the problem. "
      ]
    }
  ],
  "metadata": {
    "accelerator": "TPU",
    "colab": {
      "machine_shape": "hm",
      "name": "NLP_Project_2.ipynb",
      "provenance": [],
      "include_colab_link": true
    },
    "kernelspec": {
      "display_name": "Python 3",
      "language": "python",
      "name": "python3"
    },
    "language_info": {
      "codemirror_mode": {
        "name": "ipython",
        "version": 3
      },
      "file_extension": ".py",
      "mimetype": "text/x-python",
      "name": "python",
      "nbconvert_exporter": "python",
      "pygments_lexer": "ipython3",
      "version": "3.8.5"
    }
  },
  "nbformat": 4,
  "nbformat_minor": 0
}